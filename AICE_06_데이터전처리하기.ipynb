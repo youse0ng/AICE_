{
  "nbformat": 4,
  "nbformat_minor": 0,
  "metadata": {
    "colab": {
      "private_outputs": true,
      "provenance": [],
      "authorship_tag": "ABX9TyNeZHSPq7a9/t2w90Wv1rGx",
      "include_colab_link": true
    },
    "kernelspec": {
      "name": "python3",
      "display_name": "Python 3"
    },
    "language_info": {
      "name": "python"
    }
  },
  "cells": [
    {
      "cell_type": "markdown",
      "metadata": {
        "id": "view-in-github",
        "colab_type": "text"
      },
      "source": [
        "<a href=\"https://colab.research.google.com/github/youse0ng/AICE_/blob/main/AICE_06_%EB%8D%B0%EC%9D%B4%ED%84%B0%EC%A0%84%EC%B2%98%EB%A6%AC%ED%95%98%EA%B8%B0.ipynb\" target=\"_parent\"><img src=\"https://colab.research.google.com/assets/colab-badge.svg\" alt=\"Open In Colab\"/></a>"
      ]
    },
    {
      "cell_type": "markdown",
      "source": [
        "데이터 전처리는 데이터 분석을 위해 데이터를 준비하는 모든 작업을 아울러 이르는 말\n",
        "\n",
        "데이터 탐색, 결측치와 이상치의 확인과 처리, 데이터의 변환에 이르는 모든 단계를 전처리라고 부름\n"
      ],
      "metadata": {
        "id": "7j-X7rRyPEqQ"
      }
    },
    {
      "cell_type": "markdown",
      "source": [
        "# 수치형 데이터 정제하기"
      ],
      "metadata": {
        "id": "FREjysQoSrgC"
      }
    },
    {
      "cell_type": "markdown",
      "source": [
        "## 결측치 파악하기\n",
        "\n",
        "결측치(null)이란 데이터에 값이 없는 것을 의미\n",
        "\n",
        "파이썬에서는 NaN으로 표기\n",
        "\n",
        "파이썬에서 결측치를 확인하는 방법에는\n",
        "\n",
        "1. Null이 아닌 수를 확인하는 방법\n",
        "\n",
        "2. Null이 몇 개인지 확인하는 방법\n",
        "\n",
        "2가지가 있다.\n",
        "\n"
      ],
      "metadata": {
        "id": "oxCj018oStuN"
      }
    },
    {
      "cell_type": "code",
      "source": [
        "import pandas as pd\n",
        "\n",
        "df=pd.read_csv(\"/content/Clean_Dataset.csv\")\n",
        "\n",
        "df.drop([df.columns[0]],axis=1,inplace=True)\n",
        "\n",
        "df"
      ],
      "metadata": {
        "id": "KrKHJi5ke8MX"
      },
      "execution_count": null,
      "outputs": []
    },
    {
      "cell_type": "code",
      "source": [
        "# 랜덤하게 결측치 생성하기\n",
        "# 랜던과 넘파이 불러오기\n",
        "\n",
        "import numpy as np\n",
        "import random\n",
        "\n",
        "# 같은 결과 출력을 위한 시드 고정하기\n",
        "\n",
        "random.seed(2023)\n",
        "np.random.seed(2023)\n",
        "\n",
        "# 랜덤한 위치에 결측치 5,000개를 포함한 데이터 df_na 생성하기 (5000개의 결측치 생성)\n",
        "\n",
        "df_na=df.copy()\n",
        "for i in range(5000):\n",
        "  df_na.iloc[random.randint(0,len(df_na.index)-1),random.randint(0,len(df_na.columns)-1)]=np.nan"
      ],
      "metadata": {
        "id": "-_gKOgFQf13n"
      },
      "execution_count": null,
      "outputs": []
    },
    {
      "cell_type": "code",
      "source": [
        "len(df_na.index),len(df_na.columns)"
      ],
      "metadata": {
        "id": "GcWVutLVf4Uo"
      },
      "execution_count": null,
      "outputs": []
    },
    {
      "cell_type": "code",
      "source": [
        "df_na.iloc[1]=np.nan # 2행\n",
        "df_na.iloc[3]=np.nan # 4행의 인덱스 전체 결측치 처리하기"
      ],
      "metadata": {
        "id": "LDK7Mchrf4St"
      },
      "execution_count": null,
      "outputs": []
    },
    {
      "cell_type": "markdown",
      "source": [
        "#### 결측치 존재 여부 확인\n",
        "\n",
        "info() 메소드를 이용하면 인덱스의 범위(RangeIndex), 칼럼 정보(data columns), 칼럼 수, 칼럼명, 칼럼별 non_null수, 칼럼의 데이터 유형 등\n",
        "\n",
        "데이터프레임의 많은 정보를 확인"
      ],
      "metadata": {
        "id": "1fPtvFABf4Qm"
      }
    },
    {
      "cell_type": "code",
      "source": [
        "df_na.info()"
      ],
      "metadata": {
        "id": "3DEEnLOS3Bhc"
      },
      "execution_count": null,
      "outputs": []
    },
    {
      "cell_type": "markdown",
      "source": [
        "airline 항목을 보면, 300153-299685 = 468 개의 결측치가 있다.\n",
        "\n",
        "단순히 결측치가 있는지 없는지만 파악하자. info()\n",
        "\n"
      ],
      "metadata": {
        "id": "LDnb_3qN3EVU"
      }
    },
    {
      "cell_type": "markdown",
      "source": [
        "### 결측치 수 확인하기\n",
        "\n",
        "isnull()\n",
        "\n",
        "조금 더 직관적으로 df_na 데이터프레임의 결측치 개수를 확인해보자\n",
        "\n",
        "isnull 메소드를 사용할 경우 null 값이면 True\n",
        "\n",
        "null이 아니면 False를 반환한다.\n",
        "\n",
        "즉, 결측치의 개수를 반환"
      ],
      "metadata": {
        "id": "lyAHbvxvf4O0"
      }
    },
    {
      "cell_type": "code",
      "source": [
        "df_na"
      ],
      "metadata": {
        "id": "Z_zFa6j035h0"
      },
      "execution_count": null,
      "outputs": []
    },
    {
      "cell_type": "code",
      "source": [
        "df_na.isnull().sum(axis=0)"
      ],
      "metadata": {
        "id": "H6mifunMf4My"
      },
      "execution_count": null,
      "outputs": []
    },
    {
      "cell_type": "markdown",
      "source": [
        "![sum(axis).jpg](data:image/jpeg;base64,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)"
      ],
      "metadata": {
        "id": "x7aEomi16bmU"
      }
    },
    {
      "cell_type": "markdown",
      "source": [
        "## 결측치 처리하기\n",
        "\n",
        "결측치는 데이터를 분석할 때 반드시 처리해야 하는 값\n",
        "\n",
        "결측치 처리하는 방식에는 3가지 방법이 존재\n",
        "\n",
        "- 1. 결측치가 포함된 레코드를 제거하는 방법\n",
        "- 2. 결측치가 포함된 칼럼을 제거하는 방법\n",
        "- 3. 결측치를 특정한 값으로 채워넣는 방법\n",
        "\n"
      ],
      "metadata": {
        "id": "I12c4tJKf4K3"
      }
    },
    {
      "cell_type": "code",
      "source": [
        "# 데이터 변경에 대비하여 원본 데이터 복사하기\n",
        "\n",
        "df_na_origin=df_na.copy()\n",
        "df_na_origin"
      ],
      "metadata": {
        "id": "6-ZOpyNnf4Is"
      },
      "execution_count": null,
      "outputs": []
    },
    {
      "cell_type": "markdown",
      "source": [
        "### 결측치 삭제하기 (`dropna()`)\n",
        "\n",
        "\n",
        "\n",
        "결측치 삭제는 손쉽게 결측치를 처리할 수 있는 방법이지만, 데이터의 손실이 발생하여 원래 데이터 특성을 모두 반영하기 못하는 문제가 발생\n",
        "\n",
        "결측치의 비중이 적을 때 사용하는 것이 좋다.\n",
        "\n",
        "`dropna()` 메소드를 사용하면 데이터의 행 기준으로 각 칼럼 값에 결측값이 1개라도 있으면 해당 행을 삭제\n",
        "\n",
        "데이터 손실이 크기 때문에 how와 thresh 파라미터가 존재\n",
        "\n",
        "- how : default:'any' 를 'all'로 바꾸면 모든 칼럼이 결측이인 행만 삭제한다.\n",
        "\n",
        "- thresh: 결측치가 아닌 칼럼의 수를 보장한다. 예를 들어 11개의 칼럼이 있는 데이터에서 thresh가 8인 경우, 결측치가 아닌 값이 8개 미만인 경우,\n",
        "즉 결측치가 4개 이상인 행 데이터를 삭제한다."
      ],
      "metadata": {
        "id": "hFSL0toWf4Gw"
      }
    },
    {
      "cell_type": "code",
      "source": [
        "# 결측치 1개라도 가지는 행을 모두 삭제하기\n",
        "df_na=df_na.dropna()\n",
        "df_na.info()"
      ],
      "metadata": {
        "id": "jnsmX3EQf4Ex"
      },
      "execution_count": null,
      "outputs": []
    },
    {
      "cell_type": "code",
      "source": [
        "# 결측치 삭제하기 전 원래 데이터 가져오기\n",
        "df_na=df_na_origin.copy()\n",
        "\n",
        "# 모든 데이터가 결측치인 행만 삭제하기\n",
        "df_na=df_na.dropna(how='all')\n",
        "df_na.info()"
      ],
      "metadata": {
        "id": "jNj32htIf4Cx"
      },
      "execution_count": null,
      "outputs": []
    },
    {
      "cell_type": "markdown",
      "source": [
        "300153개 였던 데이터가 300151로 2개의 행이 삭제됨"
      ],
      "metadata": {
        "id": "85IW0Qa1f4Az"
      }
    },
    {
      "cell_type": "code",
      "source": [
        "# 0번 인덱스부터 5개의 데이터를 불러와서 1번 3번 인덱스 삭제 결과 확인\n",
        "\n",
        "df_na.head()"
      ],
      "metadata": {
        "id": "DtBMSP_nf3-z"
      },
      "execution_count": null,
      "outputs": []
    },
    {
      "cell_type": "markdown",
      "source": [
        "### 칼럼 제거하기 drop\n",
        "\n",
        "칼럼 제거는 단일 특성에서 일정 비중 이상을 결측치가 차지하는 경우에만 사용하는 것이 좋다.\n",
        "\n",
        "결측치의 비율이 50%가 넘어가면 삭제를 고려한다.\n",
        "\n",
        "실습을 위해 환승장 수(stops)와 비행 코드(flight) 특성을 제거해보자."
      ],
      "metadata": {
        "id": "iBVP2JZuf39K"
      }
    },
    {
      "cell_type": "code",
      "source": [
        "# 결측치 삭제하기 전 원래 데이터 가져오기\n",
        "df_na=df_na_origin.copy()\n",
        "\n",
        "# stops과 flight 특성 제거\n",
        "df_na=df_na.drop(['stops','flight'],axis=1)\n",
        "df_na.info()"
      ],
      "metadata": {
        "id": "_tB8j_8of37A"
      },
      "execution_count": null,
      "outputs": []
    },
    {
      "cell_type": "code",
      "source": [
        "df_na.dropna(inplace=True)\n",
        "df_na.info()"
      ],
      "metadata": {
        "id": "JW3xB8o2f35D"
      },
      "execution_count": null,
      "outputs": []
    },
    {
      "cell_type": "markdown",
      "source": [
        "결측치 삭제하기 에서 dropna를 했을 때 보다 932개의 데이터가 보존되긴 했지만, 칼럼을 제거했을 때 데이터 손실이 발생하는 것을 감안하면\n",
        "\n",
        "좋은 선택이라곤 볼 수 없지만, 일정 비율 이상의 결측치가 존재하는 칼럼은 칼럼 제거를 고려해 볼 수 있다."
      ],
      "metadata": {
        "id": "h8YkUKqVf33G"
      }
    },
    {
      "cell_type": "markdown",
      "source": [
        "### 결측치 대체하기 `fillna()`\n",
        "\n",
        "method 파라미터\n",
        "*   1. ffill 이전 인덱스에 있는 값을 사용해서 결측치를 채움\n",
        "*   2. bfill 다음 인덱스에 있는 값을 사용해서 결측치를 채움\n",
        "가장 무난하고 많이 사용되는 방법\n",
        "\n",
        "\n",
        "평균값, 중간값, 최빈값을 가장 많이 사용하지만, 어떤 값을 사용해도 정확한 값과는 같지는 않기 때문에 데이터의 오차가 발생할 수 있다.\n",
        "\n",
        "또한 너무 많이 데이터를 같은 값으로 대체하면 데이터의 편향이 발생할 수 있다.\n",
        "\n",
        "모든 결측치를 평균값으로 대체하는 실습을 하자\n",
        "\n",
        "`fillna` 메소드의 파라미터에 지정하는 값으로 결측치가 대체된다.\n",
        "\n",
        "숫자형 문자형 데이터 모두 사용 가능!\n",
        "\n"
      ],
      "metadata": {
        "id": "L0AyqSEsf31R"
      }
    },
    {
      "cell_type": "code",
      "source": [
        "df_na=df_na_origin.copy()\n",
        "\n",
        "# 칼럼별 평균값으로 결측치 대체하기\n",
        "\n",
        "df_na=df_na.fillna(df_na.mean())\n",
        "df_na.head()\n",
        "\n",
        "# 평균값으로 대체했기에, 문자 유형에는 대체하기가 적용되지않음\n",
        "# duration daysleft price 에는 mean()이 적용되어들어감."
      ],
      "metadata": {
        "id": "TLSJ_zXzf3zS"
      },
      "execution_count": null,
      "outputs": []
    },
    {
      "cell_type": "code",
      "source": [
        "df_na=df_na.fillna(method='bfill')\n",
        "df_na.info()"
      ],
      "metadata": {
        "id": "pIxGgBVyf3xL"
      },
      "execution_count": null,
      "outputs": []
    },
    {
      "cell_type": "markdown",
      "source": [
        "## 이상치 파악하기\n",
        "\n",
        "보통 관측된 데이터의 범위에서 많이 벗어난 아주 작은 값이나 큰 값을 이상치라 한다.\n",
        "\n",
        "이러한 이상치는 데이터 분석 또는 AI 모델링할 경우 의사결정에 큰 영향을 미침\n",
        "\n",
        "그래서 적절한 이상치 처리는 필수이다.\n",
        "\n",
        "이상치를 탐지하기 위한 방법 몇가지를 알아보자.\n",
        "\n",
        "1. 특정 추세를 벗어난 데이터는 시각화로 확인 산점도, 선형회귀 모델 그래프(lmplot)나 조인트그래프, 산점도가 포함된 그래프로 확인 가능\n",
        "\n",
        "2. 중앙값을 크게 벗어난 데이터는 IQR로 이상치를 파악할 수 있다.\n",
        "(상자 그래프)\n"
      ],
      "metadata": {
        "id": "71fq9bbcf3vd"
      }
    },
    {
      "cell_type": "markdown",
      "source": [
        "### Z-score로 파악하기\n",
        "\n",
        "제트스코어는 신뢰 구간과 관계가 있다.\n",
        "\n",
        "신뢰 구간이란 모수가 실제로 포함될 것이라고 예측되는 범위\n",
        "\n",
        "신뢰 구간에 모집단의 실제 평균값이 포함될 확률을 신뢰 수준이라고 한다.\n",
        "\n",
        "일반적으로 95 % 의 신뢰 수준을 사용하기때문에 Z-Score 1.96을 기준으로 이상치를 확인해보자.\n",
        "\n",
        "Z-score를 구하는 산식은 138p. 를 참조\n"
      ],
      "metadata": {
        "id": "KJEy9wBKf3tS"
      }
    },
    {
      "cell_type": "code",
      "source": [
        "# Z-Score를 기준으로 신뢰 수준이 95%인 데이터를 확인하기\n",
        "\n",
        "df[(abs((df['price']-df['price'].mean())/df['price'].std()))>1.96]"
      ],
      "metadata": {
        "id": "641oAQ_-f3qG"
      },
      "execution_count": null,
      "outputs": []
    },
    {
      "cell_type": "markdown",
      "source": [
        "총 12493 개의 이상치가 검출됨.\n",
        "\n",
        "신뢰도 95%는 일반적인 기준으로 실제 데이터의 특성에 맞게 신뢰 구간을 조정하면된다.\n"
      ],
      "metadata": {
        "id": "bXOieO8TJwqn"
      }
    },
    {
      "cell_type": "markdown",
      "source": [
        "### IQR로 확인하기\n",
        "\n",
        "IQR은 제3사분위수에서 제1사분위수를 뺀 값을 의미\n",
        "\n",
        "제1사분위수에서 IQR의 1.5배만큼 뺀 값보다 작거나,\n",
        "\n",
        "제3사분위수에서 IQR의 1.5배만큼 더한 값보다 크면,\n",
        "\n",
        "이상치로 판단한다.\n",
        "\n",
        "이상치를 판단하는 findOutlier 함수를 만들어보자\n",
        "\n",
        "quantile 메소드는 데이터를 크기별로 줄 세운 후 해당하는 퍼센트에 따른 값으로 quantile(0.25)는 제1사분위수를 나타내고, quantile(0.75)는 제3사분위수를 나타낸다."
      ],
      "metadata": {
        "id": "L0uQlsBoJwob"
      }
    },
    {
      "cell_type": "code",
      "source": [
        "# IQR을 기준으로 이상치를 확인하는 함수 만들기\n",
        "def findOutliers(x,column):\n",
        "  # 제1사분위수 q1구하기\n",
        "  q1=x[column].quantile(0.25)\n",
        "\n",
        "  # 제3사분위수 q3구하기\n",
        "  q3=x[column].quantile(0.75)\n",
        "\n",
        "  # IQR의 1.5배수 구하기\n",
        "  iqr=1.5*(q3-q1)\n",
        "\n",
        "  # 제3사분위수에서 IQR의 1.5배보다 크거나 제1사분위에서 IQR의 1.5배보다 작은 값만 저장한 데이터 y 만들기\n",
        "  y=x[(x[column]>(q3+iqr)) | (x[column]<(q1-iqr))]\n",
        "\n",
        "  # IQR 기준 이상치 개수 반환\n",
        "  return len(y)"
      ],
      "metadata": {
        "id": "cE2DXjD8Jwmm"
      },
      "execution_count": null,
      "outputs": []
    },
    {
      "cell_type": "code",
      "source": [
        "# price,duration,days_left에 대하여 IQR 기준 이상치 개수 확인하기\n",
        "print(\"price IQR Outliers: \",findOutliers(df,'price') ,'개')\n",
        "print(\"duration IQR Outliers: \", findOutliers(df,'duration'),'개')\n",
        "print(\"days_left IQR Outliers: \", findOutliers(df,'days_left'),'개')"
      ],
      "metadata": {
        "id": "uOrg9TIbJwkv"
      },
      "execution_count": null,
      "outputs": []
    },
    {
      "cell_type": "code",
      "source": [
        "import matplotlib.pyplot as plt\n",
        "\n",
        "plt.figure()\n",
        "\n",
        "# 첫 번째 subplot: 1행 5열로 나눈 영역에서 첫 번째 영역\n",
        "plt.subplot(151)\n",
        "df[['duration']].boxplot()\n",
        "plt.ylabel(\"time\")\n",
        "\n",
        "# 두 번째 subplot: 1행 5열로 나눈 영역에서 세 번째 영역\n",
        "plt.subplot(153)\n",
        "df[['days_left']].boxplot()\n",
        "plt.ylabel(\"days\")\n",
        "# 세 번째 subplot: 1행 5열로 나눈 영역에서 다섯 번째 영역\n",
        "plt.subplot(155)\n",
        "df[['price']].boxplot()\n",
        "plt.ylabel(\"days\")\n",
        "plt.show()"
      ],
      "metadata": {
        "id": "viJWp6UuJwjI"
      },
      "execution_count": null,
      "outputs": []
    },
    {
      "cell_type": "markdown",
      "source": [
        "실행 결과에서 비행시간(duration)과 항공권 가격(price)에 이상치가 있음을 확인할 수 있다."
      ],
      "metadata": {
        "id": "Xb-iE3mQJwg9"
      }
    },
    {
      "cell_type": "markdown",
      "source": [
        "## 이상치 처리하기\n",
        "\n",
        "이상치는 결측치와 같이 삭제할 수도 있고, 데이터 보존을 위해 대체할 수도 있습니다.\n",
        "\n",
        "삭제하기는 데이터의 손실을 감안해야 하고, 대체하기는 데이터의 통계량이 변경되는 것을 고려해 이상치를 처리하면 됩니다.\n"
      ],
      "metadata": {
        "id": "_UlMW_6lJwfI"
      }
    },
    {
      "cell_type": "code",
      "source": [
        "# 데이터 변형에 대비하여 데이터 원본 복사하기\n",
        "df_origin=df.copy()"
      ],
      "metadata": {
        "id": "eWo8Xf0KJwdZ"
      },
      "execution_count": null,
      "outputs": []
    },
    {
      "cell_type": "markdown",
      "source": [
        "### 이상치 데이터 삭제하기\n",
        "\n",
        "Z-Score로 찾아낸 이상치를 제거하는 방법은 확인한 데이터프레임의 인덱스를 리스트로 만들어 실습용 데이터에서 제거하는 것\n",
        "\n"
      ],
      "metadata": {
        "id": "pSQtTjTNJwZZ"
      }
    },
    {
      "cell_type": "code",
      "source": [
        "outliers_from_price=df[abs((df['price']-df['price'].mean())/df['price'].std())>1.96].index\n",
        "outliers_from_price"
      ],
      "metadata": {
        "id": "mf29O8wJRcbF"
      },
      "execution_count": null,
      "outputs": []
    },
    {
      "cell_type": "code",
      "source": [
        "outliers_from_duration=df[abs((df['duration']-df['duration'].mean())/df['duration'].std())>1.96].index\n",
        "outliers_from_duration"
      ],
      "metadata": {
        "id": "f2lRiftITRKp"
      },
      "execution_count": null,
      "outputs": []
    },
    {
      "cell_type": "code",
      "source": [
        "# 추출한 인덱스의 행 삭제해서 clean_df_from_price를 만들기 (price)\n",
        "\n",
        "clean_df_from_price=df.drop(outliers_from_price)\n",
        "clean_df_from_price.info()\n",
        "\n",
        "# 추출한 인덱스의 행 삭제해서 clean_df_from_duration\n",
        "\n",
        "clean_df_from_duration=df.drop(outliers_from_duration)\n",
        "clean_df_from_duration.info()"
      ],
      "metadata": {
        "id": "p5n5F5xlJwXX"
      },
      "execution_count": null,
      "outputs": []
    },
    {
      "cell_type": "code",
      "source": [
        "plt.figure(figsize=(16,8))\n",
        "\n",
        "# duration에 있는 outlier가 제거됐는지 확인\n",
        "plt.subplot(131)\n",
        "clean_df_from_duration[['duration']].boxplot()\n",
        "\n",
        "# price에 있는 outlier가 제거됐는지 확인\n",
        "plt.subplot(133)\n",
        "clean_df_from_price[['price']].boxplot()\n",
        "plt.show()"
      ],
      "metadata": {
        "id": "fvuKDracf3a8"
      },
      "execution_count": null,
      "outputs": []
    },
    {
      "cell_type": "markdown",
      "source": [
        "### 이상치 데이터 대체하기\n",
        "\n",
        "이상치를 IQR로 확인하고 처리하는 경우 함수를 만들어서 대체하거나 삭제해야한다.\n",
        "\n",
        "IQR 하단에 있는 이상치는 최솟값으로 대체하고,\n",
        "\n",
        "상단에 있는 이상치는 최댓값으로 대체하는 함수를 만들어 항공권 가격의 IQR 기준 이상치를 대체하여 처리해보자."
      ],
      "metadata": {
        "id": "acothRJRUMjh"
      }
    },
    {
      "cell_type": "code",
      "source": [
        "# IQR 기준, 이상치를 대체하는 함수를 만들기\n",
        "\n",
        "def changeOutliers(x,column):\n",
        "  q1=x[column].quantile(0.25)\n",
        "  q3=x[column].quantile(0.75)\n",
        "\n",
        "  iqr=1.5*(q3-q1)\n",
        "\n",
        "  min=(q1-iqr)\n",
        "  max=q3+iqr\n",
        "\n",
        "  x.loc[(x[column]>max),column]=max\n",
        "  x.loc[(x[column]<min),column]=min\n",
        "\n",
        "  return(x)\n",
        "\n",
        "clean_df=changeOutliers(df,'price')\n",
        "clean_df.info()"
      ],
      "metadata": {
        "id": "XbTBdFDFW_PB"
      },
      "execution_count": null,
      "outputs": []
    },
    {
      "cell_type": "markdown",
      "source": [
        "df.loc[행과 관련된 수식이나 Any, 열과 (칼럼과)관련된 것]        \n"
      ],
      "metadata": {
        "id": "ndjEZqQMZNhp"
      }
    },
    {
      "cell_type": "code",
      "source": [
        "print(\"price IQR outliers: \",findOutliers(clean_df,'price'))"
      ],
      "metadata": {
        "id": "6yxzqcbFnpdc"
      },
      "execution_count": null,
      "outputs": []
    },
    {
      "cell_type": "code",
      "source": [
        "clean_df[['price']].boxplot()\n",
        "plt.show()"
      ],
      "metadata": {
        "id": "jmebRZ6InBaW"
      },
      "execution_count": null,
      "outputs": []
    },
    {
      "cell_type": "code",
      "source": [
        "clean_df[['price']]"
      ],
      "metadata": {
        "id": "DpZufXHJnBXT"
      },
      "execution_count": null,
      "outputs": []
    },
    {
      "cell_type": "markdown",
      "source": [
        "## 구간화하기\n",
        "\n",
        "구간화(binning)는 연속형 데이터를 특정 구간으로 나누어 범주형 또는 순위형으로 변환하는 방법을 말한다.\n",
        "\n",
        "대표적으로 수능 점수를 등급으로 변환하거나, 나이를 세대로 나누는 것이 있다.\n",
        "\n",
        "구간화하면 이상치로 발생 가능한 문제를 줄이고,\n",
        "\n",
        "결과에 대한 해석이 쉬워질 수 있다.\n",
        "\n",
        "1. 동일 길이로 구간화 (cut)\n",
        "\n",
        "2. 동일 갯수로 구간화 (qcut)\n",
        "\n",
        "\n"
      ],
      "metadata": {
        "id": "s91Egzxom97T"
      }
    },
    {
      "cell_type": "markdown",
      "source": [
        "### 동일 길이로 구간화하기\n",
        "\n",
        "cut을 사용하여 구간을 사용자가 지정하여 구간화하기\n",
        "\n",
        "파라미터\n",
        "- bins: 구간화 지점을 리스트로 지정 예를들어, [A,B,C]로 지정했다면,\n",
        "[A,B] [B,C]까지 2개로 구간화한다.\n",
        "\n",
        "- labels: 구간화된 값의 이름을 지정한다. 구간화를 지정한 수만큼 리스트로 만들어넣으면된다. 즉, bins의 개수보다 1개 적게 지정\n",
        "\n"
      ],
      "metadata": {
        "id": "W3XxFhlgm95M"
      }
    },
    {
      "cell_type": "markdown",
      "source": [
        "비행 시간(duration)을 사용하여 0부터 5시간은 단거리, 5부터 10시간은 중거리, 10시간 이상은 장거리로 구간화해보자.\n"
      ],
      "metadata": {
        "id": "l5TcFvIGtfpo"
      }
    },
    {
      "cell_type": "code",
      "source": [
        "df['distance']=pd.cut(df['duration'],bins=[0,5,10,df['duration'].max()],labels=['short','medium','long'])\n",
        "\n",
        "df[['distance']].head()"
      ],
      "metadata": {
        "id": "lrRzM7hym92U"
      },
      "execution_count": null,
      "outputs": []
    },
    {
      "cell_type": "code",
      "source": [
        "# 빈도표를 알고싶을때, value_counts()\n",
        "df['distance'].value_counts()"
      ],
      "metadata": {
        "id": "rKSWzQINm9zl"
      },
      "execution_count": null,
      "outputs": []
    },
    {
      "cell_type": "markdown",
      "source": [
        "### 동일 갯수로 구간화하기\n",
        "\n",
        "qcut은 cut과 사용이 동일합니다. 다만,bins 대신 정수를 넣어서 해당 구간만큼 동일한 양의 데이터가 들어가도록 구간화한다,\n",
        "\n",
        "labels는 cut과 같이 구간화된 값의 이름을 지정한다.\n",
        "항공권 가격 칼럼을 이용하여 가격을 4등급으로 구간화해보자.\n"
      ],
      "metadata": {
        "id": "s07_Hx9Vm9tb"
      }
    },
    {
      "cell_type": "code",
      "source": [
        "df['price_rate']=pd.qcut(df['price'],4,labels=['cheap','normal','expensive','too expensive'])\n",
        "df.head()"
      ],
      "metadata": {
        "id": "yfsEcwP8m9p2"
      },
      "execution_count": null,
      "outputs": []
    },
    {
      "cell_type": "code",
      "source": [
        "df['price_rate'].value_counts()\n",
        "\n",
        "# 빈도수가 비슷비슷하다.\n"
      ],
      "metadata": {
        "id": "rXvYaMUUm9mE"
      },
      "execution_count": null,
      "outputs": []
    },
    {
      "cell_type": "markdown",
      "source": [
        "# 범주형 데이터 정제하기\n",
        "\n",
        "데이터를 분석하여 통계를 만들 때 범주형 데이터를 전처리하는 것이 중요\n",
        "\n",
        "예를 들어, 보통 남자, 여자의 구분을 (남,여) 혹은 (M,W)로 표기하지만 컴퓨터는 남자와 여자를 구분하지 못하므로 컴퓨터가 가장 이해하기 좋은 언어인 숫자로 남자는 0, 여자는 1과 같이 변경해 주어야한다.\n",
        "\n",
        "컴퓨터가 데이터를 이해할 수 있도록 범주형 데이터를 수치형 데이터로 변경하는 과정을\n",
        "\n",
        "**범주형 인코딩이라고 한다.**"
      ],
      "metadata": {
        "id": "4LRqL3eZm9kD"
      }
    },
    {
      "cell_type": "markdown",
      "source": [
        "### 레이블 인코딩하기\n",
        "\n",
        "범주형 데이터에 숫자 레이블을 할당한다.\n",
        "\n",
        "범주를 정렬하는 방법을 많이 사용하는데, 글자를 알파벳순으로 정렬한 후\n",
        "\n",
        "그것을 기준으로 번호를 매긴다고 생각한다.\n",
        "\n",
        "1. 가나다 순으로 정렬\n",
        "\n",
        "  대전-> 부산 ->서울\n",
        "\n",
        "2. 순서대로\n",
        "\n",
        "  대전 - 0\n",
        "\n",
        "  부산 - 1\n",
        "  \n",
        "  서울 - 2\n",
        "\n"
      ],
      "metadata": {
        "id": "1OXaoTpRm9iR"
      }
    },
    {
      "cell_type": "markdown",
      "source": [
        "#### 판다스에서 레이블 인코딩하기 (`Factorize`)\n",
        "\n",
        "판다스만 사용하여 레이블을 인코딩할 수 있다.\n",
        "\n",
        "다만, 알파벳순이 아닌 인덱스 기준으로, 카테고리가 등장하는 순서를 기반으로 숫자로 매핑해준다.\n",
        "\n",
        "Factorize의 결과는 tuple 값을 반환하기 때문에,\n",
        "데이터프레임의 새로운 칼럼을 만들기위해 array로 변경하고 reshape하여 새로운 칼럼으로 만들어준다."
      ],
      "metadata": {
        "id": "tr40YZ7Bm9gJ"
      }
    },
    {
      "cell_type": "code",
      "source": [
        "pd.factorize(df['airline'])[0].reshape(-1,1)"
      ],
      "metadata": {
        "id": "Ru9Q1Dazm9cj"
      },
      "execution_count": null,
      "outputs": []
    },
    {
      "cell_type": "markdown",
      "source": [
        "https://yganalyst.github.io/data_handling/memo_5/\n",
        "\n",
        "reshape에 관한 인수 설명"
      ],
      "metadata": {
        "id": "LpupItWl0rcT"
      }
    },
    {
      "cell_type": "code",
      "source": [
        "df=df_origin.copy()\n",
        "\n",
        "# factorize로 airline 칼럼 레이블 인코딩하기\n",
        "df['label_encoding']=pd.factorize(df['airline'])[0].reshape(-1,1)\n",
        "df.head()"
      ],
      "metadata": {
        "id": "KZo75x5ZwlLF"
      },
      "execution_count": null,
      "outputs": []
    },
    {
      "cell_type": "code",
      "source": [
        "# airline 칼럼과 새롭게 만들어진 label_encoding 칼럼의 빈도표 확인하기\n",
        "print(df['airline'].value_counts())\n",
        "print(df['label_encoding'].value_counts())"
      ],
      "metadata": {
        "id": "ktH42whEm9am"
      },
      "execution_count": null,
      "outputs": []
    },
    {
      "cell_type": "markdown",
      "source": [
        "#### 사이킷런으로 레이블 인코딩하기(sklearn.preprocessing.LabelEncoder)\n",
        "\n",
        "sklearn.preprocessing 안에는 데이터 전처리를 위한 다양한 모듈이 존재한다.\n",
        "\n",
        "LabelEncoder 함수를 활용하여 간단하게 레이블 인코딩을 할 수 있다.\n",
        "\n",
        "le=LabelEncoer() 선언후\n",
        "\n",
        "le.fit_transform(인코딩을 원하는 칼럼)\n"
      ],
      "metadata": {
        "id": "ydPfICwXm9Yc"
      }
    },
    {
      "cell_type": "code",
      "source": [
        "from sklearn.preprocessing import LabelEncoder\n",
        "\n",
        "# LabelEncoder로 airline 칼럼 레이블 인코딩하기\n",
        "le=LabelEncoder()\n",
        "\n",
        "df['airline_Label_Encoder']=le.fit_transform(df['airline'])\n",
        "\n",
        "df.head()"
      ],
      "metadata": {
        "id": "rGw-incTm9Wk"
      },
      "execution_count": null,
      "outputs": []
    },
    {
      "cell_type": "code",
      "source": [
        "le.fit_transform(df['airline']).reshape(-1,1) # reshape(변경할 차원,차원)"
      ],
      "metadata": {
        "id": "JH0zYzdk0LW8"
      },
      "execution_count": null,
      "outputs": []
    },
    {
      "cell_type": "code",
      "source": [
        "# airline 칼럼과 새롭게 만들어진 airline_Label_Encoder 칼럼의 빈도표 확인하기\n",
        "\n",
        "print(df['airline'].value_counts()) # airline 칼럼의 빈도표 확인하기\n",
        "print(df['airline_Label_Encoder'].value_counts()) # airline_Label_Encoder 칼럼의 빈도표 확인하기"
      ],
      "metadata": {
        "id": "WxKWwEXjm9S3"
      },
      "execution_count": null,
      "outputs": []
    },
    {
      "cell_type": "code",
      "source": [
        "# 레이블 인코딩 역변환 (디코딩)하기\n",
        "\n",
        "le.inverse_transform(df['airline_Label_Encoder']).reshape(-1,1)"
      ],
      "metadata": {
        "id": "uTz_miWpzxo3"
      },
      "execution_count": null,
      "outputs": []
    },
    {
      "cell_type": "markdown",
      "source": [
        "### 원핫 인코딩하기\n",
        "\n",
        "1개의 요소는 True, 나머지 요소는 False로 만들어주는 기법\n",
        "\n",
        "간단히 말하면 하나의 데이터만 1 나머지는 0으로 만들어주는 기법이다.\n",
        "\n",
        "자세한 것은 보면서 얘기\n",
        "\n",
        "\n"
      ],
      "metadata": {
        "id": "og-J8Ujjzxm5"
      }
    },
    {
      "cell_type": "markdown",
      "source": [
        "#### 판다스에서 원핫 인코딩하기 (`pd.get_dummies(하고자하는 칼럼명)`)"
      ],
      "metadata": {
        "id": "pjIFKj3Pzxkz"
      }
    },
    {
      "cell_type": "code",
      "source": [
        "df=df_origin.copy()\n",
        "\n",
        "# class 칼럼을 원핫 인코딩하기\n",
        "pd.get_dummies(df['class'])\n",
        "\n",
        "df=pd.get_dummies(df,columns=['class'])\n",
        "df.head()"
      ],
      "metadata": {
        "id": "L16ilUqs6xrl"
      },
      "execution_count": null,
      "outputs": []
    },
    {
      "cell_type": "markdown",
      "source": [
        "class 칼럼이 사라지고, class_Business와 class_Economy라는 새로운 칼럼이 데이터프레임에 추가됨"
      ],
      "metadata": {
        "id": "PeFNMGwNzxie"
      }
    },
    {
      "cell_type": "markdown",
      "source": [
        "#### 사이킷런으로 원핫 인코딩하기 (OneHotEncoder)\n",
        "\n",
        "from sklearn.preprocessing import OneHotEncoder\n",
        "\n",
        "사이킷런에서도 원핫인코더(OneHotEncoder) 모듈을 제공한다.\n",
        "\n",
        "get_dummies와 같이 바로 데이터프레임에는 반영할 수 없어 원핫 인코딩 후 데이터를 추가하기 위해 칼럼을 만들고 추가하는 작업이 필요하다."
      ],
      "metadata": {
        "id": "ce33TIqSzxgW"
      }
    },
    {
      "cell_type": "code",
      "source": [
        "df=df_origin.copy()\n",
        "\n",
        "from sklearn.preprocessing import OneHotEncoder\n",
        "\n",
        "# OneHotEncoder로 인코딩하기\n",
        "oh=OneHotEncoder()\n",
        "encoder=oh.fit_transform(df['class'].values.reshape(-1,1)).toarray()\n",
        "\n",
        "# 원핫 인코딩 결과를 데이터프레임으로 만들기\n",
        "df_OneHot=pd.DataFrame(encoder,columns=[\"class_\"+str(oh.categories_[0][i]) for i in range (len(oh.categories_[0]))])\n",
        "\n",
        "# 원본데이터와 df_OneHot 합치기\n",
        "df1=pd.concat(objs=[df,df_OneHot],axis=1)\n",
        "df1"
      ],
      "metadata": {
        "id": "1Y5rMPpczxdu"
      },
      "execution_count": null,
      "outputs": []
    },
    {
      "cell_type": "markdown",
      "source": [
        "## 스케일링하기\n",
        "\n",
        "각 칼럼에 들어 있는 데이터의 상대적 크기에 따라 분석 결과와 모델링 결과가 달라질 수 있습니다.\n",
        "\n",
        "0부터 1000까지 값을 가지는 칼럼 A와 0부터 10까지 값을 가지는 칼럼 B를 가지고 분석을 수행하면, 각 컴퓨터는 각 칼럼이 무엇을 의미하는지 모르기에,\n",
        "대체로 큰 값을 가지는 칼럼 A의 영향을 더 크게 반영한다.\n",
        "\n",
        "이를 Scailing 이라한다.\n",
        "\n",
        "\n"
      ],
      "metadata": {
        "id": "3Au6_ld2zxV8"
      }
    },
    {
      "cell_type": "markdown",
      "source": [
        "### 정규화하기\n",
        "\n",
        "min-max Scailing은 데이터의 범위를 0~1사이로 변환하여 데이터 분포를 조정하는 가장 일반적인 정규화기법이다.\n",
        "\n",
        "최소-최대 정규화 수식\n",
        "\n",
        "xstd=(x값-x의최소값)/(x의 최댓값-x의 최소값)\n",
        "\n"
      ],
      "metadata": {
        "id": "ybRPApZPzxTO"
      }
    },
    {
      "cell_type": "code",
      "source": [
        "df=df_origin.copy()\n",
        "\n",
        "# 수치형 데이터만 분리하여 데이터프레임 만들기\n",
        "df_num=df[['duration','days_left','price']]\n",
        "\n",
        "# 정규화 수식 적용\n",
        "df_num=(df_num-df_num.min())/(df_num.max()-df_num.min())\n",
        "df_num.head()\n",
        "\n",
        "df.drop(columns=['duration','days_left','price'],inplace=True)\n",
        "df=pd.concat([df,df_num],axis=1)\n",
        "df.head()"
      ],
      "metadata": {
        "id": "AmHISKvBzxMu"
      },
      "execution_count": null,
      "outputs": []
    },
    {
      "cell_type": "code",
      "source": [
        "df_num.describe()"
      ],
      "metadata": {
        "id": "lPH-8YMXzxJm"
      },
      "execution_count": null,
      "outputs": []
    },
    {
      "cell_type": "markdown",
      "source": [
        "값을 보면 min이 0, max가 1인 값으로 정규화가 되었습니다.\n",
        "\n",
        "min-max Scailing 극단적인 이상치에 민감하니 유의해서 사용하고\n",
        "\n",
        "**이상치를 먼저 제거하고 정규화를 진행해야한다.**"
      ],
      "metadata": {
        "id": "whqUi1OhzxF0"
      }
    },
    {
      "cell_type": "markdown",
      "source": [
        "### 표준화하기"
      ],
      "metadata": {
        "id": "TjG2QGDuzxCM"
      }
    },
    {
      "cell_type": "markdown",
      "source": [
        "수치형 데이터를 평균이 0이고, 표준편차가 1인 표준 정규분포로 변환한다.\n",
        "\n",
        "산식은 다음과 같다.\n",
        "\n",
        "Xnorm=(xi-X의 평균)/(x의 표준편차)"
      ],
      "metadata": {
        "id": "j_iG31-AFpUo"
      }
    },
    {
      "cell_type": "code",
      "source": [
        "# 수치형 데이터만 분리하여 데이터프레임 만들기\n",
        "df_num=df[['duration','days_left','price']]\n",
        "\n",
        "# 표준화 수식 적용하기\n",
        "df_num=(df_num-df_num.mean())/df_num.std()\n",
        "df_num.head()"
      ],
      "metadata": {
        "id": "JMJbCbb2FpSx"
      },
      "execution_count": null,
      "outputs": []
    },
    {
      "cell_type": "code",
      "source": [
        "df_num.describe()"
      ],
      "metadata": {
        "id": "rs2qq7KIFpQq"
      },
      "execution_count": null,
      "outputs": []
    },
    {
      "cell_type": "code",
      "source": [
        "df.head()"
      ],
      "metadata": {
        "id": "hCiifeZHaHLI"
      },
      "execution_count": null,
      "outputs": []
    },
    {
      "cell_type": "code",
      "source": [
        "df_num.head()"
      ],
      "metadata": {
        "id": "W5S964_DFpPE"
      },
      "execution_count": null,
      "outputs": []
    },
    {
      "cell_type": "code",
      "source": [
        "# iloc을 통해서 df_num 데이터프레임의 value를 df에다가 적용하기\n",
        "df.iloc[:,[8,9,10]]=df_num[['duration','days_left','price']]\n",
        "df.head(n=10)"
      ],
      "metadata": {
        "id": "LcPv4iBrFpM0"
      },
      "execution_count": null,
      "outputs": []
    },
    {
      "cell_type": "markdown",
      "source": [
        "# 변수 선택하기"
      ],
      "metadata": {
        "id": "kJF-95d1FpK-"
      }
    },
    {
      "cell_type": "markdown",
      "source": [
        "## 신규 변수 생성하기"
      ],
      "metadata": {
        "id": "ArFTUA_gFpJg"
      }
    },
    {
      "cell_type": "markdown",
      "source": [
        "### 하나의 데이터로 여러 개의 새로운 칼럼 만들기\n",
        "\n",
        "보토 항공기의 기체명은 '항공기 제조사+ 모델명' 으로 만들어진다.\n",
        "\n",
        "이를 활용해서 flight 칼럼을 제조사와 모델명으로 분리하여 2개의 새로운 칼럼을 만들어보자.\n",
        "\n",
        "apply, lambda를 사용한다\n",
        "\n",
        "lambda는 이름이 없는 함수로 간결할 뿐만 아니라 메모리를 절약하는 효과도 있다.\n",
        "\n"
      ],
      "metadata": {
        "id": "6fAgeq_7FpHV"
      }
    },
    {
      "cell_type": "markdown",
      "source": [
        "*args (arguments)\n",
        "\n",
        "**kwargs\n",
        "에 관한 source\n",
        "https://s1mcoding.tistory.com/41#:~:text=%EC%9D%BC%EB%8B%A8%20%2Aargs%EC%97%90%20%EB%8C%80%ED%95%B4%20%EB%A8%BC%EC%A0%80%20%EC%84%A4%EB%AA%85%EC%9D%84%20%ED%95%98%EC%9E%90%EB%A9%B4%2C%20%2Aargs%EB%8A%94%20%EC%9D%BC%EB%8B%A8,%EB%AA%87%20%EA%B0%9C%20%EB%B0%9B%EC%95%84%EC%95%BC%20%ED%95%A0%EC%A7%80%20%EB%AA%A8%EB%A5%B4%EB%8A%94%20%EA%B2%BD%EC%9A%B0%20%EC%9E%85%EB%A0%A5%ED%95%B4%EB%91%90%EB%8A%94%20%EB%B3%80%EC%88%98%EC%9D%B4%EB%8B%A4.\n",
        "\n"
      ],
      "metadata": {
        "id": "sVbJE51BjVyr"
      }
    },
    {
      "cell_type": "markdown",
      "source": [
        "zip 함수에 관한 자료\n",
        "\n",
        "https://www.daleseo.com/python-zip/"
      ],
      "metadata": {
        "id": "WJJRu15MrcP7"
      }
    },
    {
      "cell_type": "markdown",
      "source": [
        "lambda 에 관한 자료\n",
        "  https://blog.naver.com/gyeongbly_park/222024203170\n",
        "\n",
        "filter,reduce,map에 관한 자료\n",
        "  https://blog.naver.com/gyeongbly_park/222024296047\n",
        "\n",
        "apply 함수에 관한 자료\n",
        "  https://m.blog.naver.com/jinnie1210/222682165324"
      ],
      "metadata": {
        "id": "IEsLhrGalqFL"
      }
    },
    {
      "cell_type": "code",
      "source": [
        "# 항공기 기종을 제조사 코드와 모델명으로 분리하는 split_flight 함수 만들기\n",
        "def split_flight(flight):\n",
        "  # \"-\" 문자를 기준으로 앞쪽을 제조사명 코드로 저장\n",
        "  manufacture=flight.split(\"-\")[0]\n",
        "\n",
        "  # \"-\" 문자를 기준으로 뒷쪽을 모델명으로 저장\n",
        "  model=flight.split(\"-\")[1]\n",
        "\n",
        "  # 제조사 코드와 모델명 리턴\n",
        "  return manufacture,model\n",
        "\n",
        "# df['flight']를 split_flight 함수의 파라미터로 넣어 실행하는 lambda,apply를 적용하여 제조사 코드와 모델명 반환\n",
        "df['manufacture'],df['model']=zip(*df['flight'].apply(lambda x: split_flight(x)))\n",
        "df.head()"
      ],
      "metadata": {
        "id": "iHDR1XTeFpFJ"
      },
      "execution_count": null,
      "outputs": []
    },
    {
      "cell_type": "code",
      "source": [
        "df['flight'].apply(lambda x: split_flight(x))"
      ],
      "metadata": {
        "id": "DcjIEn4wzw-c"
      },
      "execution_count": null,
      "outputs": []
    },
    {
      "cell_type": "markdown",
      "source": [
        "`zip(*args)`\n",
        "zip으로 묶었던 args를 다시 unpacking 해서 a,b에다가 저장함\n",
        "\n",
        "zip(*...)을 사용하면 이렇게 묶인 요소들을 다시 개별 시퀀스로 풀어낼 수 있습니다.\n",
        "\n",
        " unzipped_list1은 (1, 2, 3)이 되고, unzipped_list2는 ('a', 'b', 'c')가 됩니다. 즉, zip(*...)를 사용하여 zip 객체에서 묶여있던 요소들을 다시 원래의 시퀀스로 분리할 수 있습니다.\n",
        "\n",
        "\n",
        "\n",
        "\n",
        "\n"
      ],
      "metadata": {
        "id": "Be-Aw-7v0niI"
      }
    },
    {
      "cell_type": "code",
      "source": [
        "a,b=zip(*df['flight'].apply(lambda x: split_flight(x)))\n",
        "a,b"
      ],
      "metadata": {
        "id": "8Q-cOkZrzw6E"
      },
      "execution_count": null,
      "outputs": []
    },
    {
      "cell_type": "markdown",
      "source": [
        "## 변수 선택하기(Feature selection)\n",
        "\n",
        "특성 선택이라고도 하고, 사용가능한 변수 중 모델 훈련에 가장 효과적인 특성의 부분집합을 선택하여 학습 모델을 구축하는 과정이다.\n",
        "\n",
        "변수 선택의 목적은\n",
        "1. 학습에 선택하는 특징의 수는 줄이면서 모델의 예측 능력을 유지하는 것\n",
        "2. 또한 과적합을 방지하고 모델의 해석 가능성을 향상합니다.\n",
        "\n",
        "변수를 선택하는 방법은 문제 유형, 데이터, 학습 알고리즘에 따라 달라져야 한다.\n",
        "\n",
        "여기에서는 변수 선택 방법 3가지를 간단히 소개한다.\n",
        "\n"
      ],
      "metadata": {
        "id": "r4XCyWbfm9Qz"
      }
    },
    {
      "cell_type": "code",
      "source": [
        "1. RFE(Recursive Feature Elimination)\n",
        "\n",
        "2. RFE-CV\n",
        "\n",
        "3. UFS"
      ],
      "metadata": {
        "id": "xSHNusc4m9O8"
      },
      "execution_count": null,
      "outputs": []
    },
    {
      "cell_type": "code",
      "source": [
        "import numpy as np\n",
        "\n",
        "# 7x7 크기의 3D 배열 생성 및 초기화\n",
        "array_3d = np.zeros((7, 7, 25))\n",
        "\n",
        "# 배열 출력\n",
        "print(array_3d)\n",
        "print(f\"배열의 shape는 {array_3d.shape} 입니다.\")"
      ],
      "metadata": {
        "id": "eTabBip5NOG6"
      },
      "execution_count": null,
      "outputs": []
    }
  ]
}