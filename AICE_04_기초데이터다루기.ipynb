{
  "nbformat": 4,
  "nbformat_minor": 0,
  "metadata": {
    "colab": {
      "private_outputs": true,
      "provenance": [],
      "toc_visible": true,
      "authorship_tag": "ABX9TyNQ3KK487xrUjxO/xRP/O3J",
      "include_colab_link": true
    },
    "kernelspec": {
      "name": "python3",
      "display_name": "Python 3"
    },
    "language_info": {
      "name": "python"
    }
  },
  "cells": [
    {
      "cell_type": "markdown",
      "metadata": {
        "id": "view-in-github",
        "colab_type": "text"
      },
      "source": [
        "<a href=\"https://colab.research.google.com/github/youse0ng/AICE_/blob/main/AICE_04_%EA%B8%B0%EC%B4%88%EB%8D%B0%EC%9D%B4%ED%84%B0%EB%8B%A4%EB%A3%A8%EA%B8%B0.ipynb\" target=\"_parent\"><img src=\"https://colab.research.google.com/assets/colab-badge.svg\" alt=\"Open In Colab\"/></a>"
      ]
    },
    {
      "cell_type": "markdown",
      "source": [
        "# 필요 데이터 선택하기"
      ],
      "metadata": {
        "id": "7TnsWkeYlfXS"
      }
    },
    {
      "cell_type": "code",
      "execution_count": null,
      "metadata": {
        "id": "Bx7gRNZrkr-5"
      },
      "outputs": [],
      "source": [
        "import numpy as np\n",
        "import pandas as pd\n",
        "from google.colab import files\n",
        "\n",
        "myfile = files.upload()\n",
        "flight=pd.read_csv(\"/content/Clean_Dataset.csv\")\n",
        "flight"
      ]
    },
    {
      "cell_type": "markdown",
      "source": [
        "## 칼럼명으로 데이터 선택하기\n",
        "\n",
        "\n"
      ],
      "metadata": {
        "id": "tXsYOK4flW-N"
      }
    },
    {
      "cell_type": "code",
      "source": [
        "flight[['departure_time']] # 특정 칼럼의 데이터프레임의 데이터 추출하기\n",
        "\n",
        "# 여러 개의 칼럼명을 리스트 형식으로 나열하여 다수의 칼럼을 선택할 수 있다.\n",
        "flight[['airline','departure_time','source_city']]\n"
      ],
      "metadata": {
        "id": "AyajKKwNk4v0"
      },
      "execution_count": null,
      "outputs": []
    },
    {
      "cell_type": "markdown",
      "source": [
        "## 행 범위를 지정하여 데이터 선택하기\n",
        "\n",
        "데이터프레임에서 슬라이싱을 이용하여 행 범위의 데이터를 선택할 수 있다.\n",
        "\n",
        "\n"
      ],
      "metadata": {
        "id": "zTj2XIK9lbFD"
      }
    },
    {
      "cell_type": "code",
      "source": [
        "# 10행부터 20행까지 데이터를 가지고 오기\n",
        "flight[10:21]"
      ],
      "metadata": {
        "id": "5pvrat7Iln9O"
      },
      "execution_count": null,
      "outputs": []
    },
    {
      "cell_type": "markdown",
      "source": [
        "## 특정 행, 열 범위를 선택하여 데이터 선택하기\n",
        "`loc` location\n",
        "1.   데이터프레임의 행이나 열에 레이블로 접근\n",
        "2.   인덱스 및 칼럼명을 통해 지정하는 방법\n",
        "3.   설정한 인덱스 그대로 사용\n",
        "\n",
        "\n",
        "`iloc`  integer location\n",
        "1.   데이터프레임의 행이나 열에 인덱스 값으로 접근\n",
        "2.   인덱스를 활용해 지정하는 방법\n",
        "3.   0 based index로 사용\n",
        "\n",
        "매우 중요\n",
        "\n"
      ],
      "metadata": {
        "id": "D0EbAGelprxb"
      }
    },
    {
      "cell_type": "code",
      "source": [
        "flight.index=np.arange(100,300253)\n",
        "flight"
      ],
      "metadata": {
        "id": "7fY7j1aZprsk"
      },
      "execution_count": null,
      "outputs": []
    },
    {
      "cell_type": "code",
      "source": [
        "flight.loc[[102,202,302]] # 101,202,302번 데이터를 loc를 이용하여 선택하려면 설정한 인덱스를 그대로 확인하면됨."
      ],
      "metadata": {
        "id": "to96as1tvWSz"
      },
      "execution_count": null,
      "outputs": []
    },
    {
      "cell_type": "code",
      "source": [
        "# 하지만 iloc 을 사용하여 선택하고자 한다면 기존 0 based index로 설정해야한다.\n",
        "# 첫번째 행부터 0,1,2,3,4...과 같은 0 based index로 볼 때, 2, 102, 202 순서에 있는 데이터입니다.\n",
        "# 따라서 iloc을 사용하여 아래와 같이 데이터를 추출 할 수 있다.\n",
        "\n",
        "flight.iloc[[2,102,202]]"
      ],
      "metadata": {
        "id": "UD4E8NuKvzK_"
      },
      "execution_count": null,
      "outputs": []
    },
    {
      "cell_type": "markdown",
      "source": [
        "### 행과 열을 동시에 선택하는 경우 loc과 iloc의 차이\n",
        "flight 데이터프레임에서 102,202,302 행과 'airline','flight','source_city','price'칼럼만 loc과 iloc을 이용하여 선택하는 경우"
      ],
      "metadata": {
        "id": "bAwscjqYwUwP"
      }
    },
    {
      "cell_type": "code",
      "source": [
        " flight.loc[[102,202,302],['airline','flight','source_city','price']]"
      ],
      "metadata": {
        "id": "yWH1jKFqwaVE"
      },
      "execution_count": null,
      "outputs": []
    },
    {
      "cell_type": "code",
      "source": [
        "flight.loc"
      ],
      "metadata": {
        "id": "ecJRjp0PuZ5T"
      },
      "execution_count": null,
      "outputs": []
    },
    {
      "cell_type": "code",
      "source": [
        "flight.iloc[[2,102,202],[1,2,3,11]]"
      ],
      "metadata": {
        "id": "VYuEPE3dh7kE"
      },
      "execution_count": null,
      "outputs": []
    },
    {
      "cell_type": "markdown",
      "source": [
        "## 조건으로 데이터 선택하기"
      ],
      "metadata": {
        "id": "_KOdRKuAlaxL"
      }
    },
    {
      "cell_type": "code",
      "source": [
        "flight_extract=flight[(flight['price']>12000) & (flight['airline'] == 'Air_India')]\n",
        "flight_extract.head()"
      ],
      "metadata": {
        "id": "CzOhC_XlleVe"
      },
      "execution_count": null,
      "outputs": []
    },
    {
      "cell_type": "code",
      "source": [
        "#조건을 별도로 지정해서 데이터 추출\n",
        "price_tag=flight['price']>12000\n",
        "\n",
        "airline_tag=flight['airline']==\"Air_India\"\n",
        "\n",
        "flight_extract2=flight[price_tag & airline_tag].head()\n",
        "flight_extract2"
      ],
      "metadata": {
        "id": "NlpI7BSJtNN6"
      },
      "execution_count": null,
      "outputs": []
    },
    {
      "cell_type": "markdown",
      "source": [
        "# 필요 데이터 변경하기\n",
        "데이터를 조회하고 수정하는 과정에서 칼럼을 추가하거나 삭제하는 등 필요에 따라 데이터를 변경하는 일이 자주 발생한다. 데이터를 변경하는 법을 살펴보자.\n"
      ],
      "metadata": {
        "id": "-_rzIOJ-vbVU"
      }
    },
    {
      "cell_type": "markdown",
      "source": [
        "## 데이터 추가하기\n",
        "기존 데이터프레임의 칼럼을 이용하여 새로운 칼럼을 추가할 수 있다."
      ],
      "metadata": {
        "id": "cfg5pIdovfnu"
      }
    },
    {
      "cell_type": "markdown",
      "source": [
        "### 새로운 칼럼 만들기"
      ],
      "metadata": {
        "id": "SFu2fuEMvxfK"
      }
    },
    {
      "cell_type": "code",
      "source": [
        "# price 2배로 하는 새로운 칼럼\n",
        "flight['price2']=flight['price']*2\n",
        "flight.head()"
      ],
      "metadata": {
        "id": "6CgkfP8hv1OT"
      },
      "execution_count": null,
      "outputs": []
    },
    {
      "cell_type": "code",
      "source": [
        "flight['price3']=flight['price']+flight['price2']\n",
        "flight.head()"
      ],
      "metadata": {
        "id": "mgVVK4wjv1MF"
      },
      "execution_count": null,
      "outputs": []
    },
    {
      "cell_type": "markdown",
      "source": [
        "새로운 칼럼이 마지막에 생성이 되었는데, insert함수를 사용하여 원하는 위치에 칼럼을 생성할 수 있다.\n",
        "\n",
        "insert 함수의 사용법\n",
        "df.insert(loc,column,value,allow_duplicates=False)\n",
        "\n",
        "-loc=삽입될 열의 위치\n",
        "\n",
        "-column=삽입될 열의 이름\n",
        "\n",
        "-value=삽입될 열의 값"
      ],
      "metadata": {
        "id": "Z0Ukt5zkwLqE"
      }
    },
    {
      "cell_type": "code",
      "source": [
        "# 새로운 위치에 원하는 칼럼 넣기\n",
        "flight.insert(10,'duration2',flight['duration']*10)\n",
        "flight.head()"
      ],
      "metadata": {
        "id": "odeziFndwLjJ"
      },
      "execution_count": null,
      "outputs": []
    },
    {
      "cell_type": "markdown",
      "source": [
        "## 데이터 삭제하기\n",
        "`drop` 메소드를 사용하여 기본적인 삭제가능\n",
        "\n",
        "- axis파라미터를 이용하여 행을 기준으로 삭제할 것이지 칼럼 기준으로 삭제할 것인지 정의가능\n",
        "\n",
        "- axis=1: 열 레벨로 데이터를 삭제\n",
        "\n",
        "- axis=0: 행 레벨로 데이터를 삭제"
      ],
      "metadata": {
        "id": "k4wSPiXIwLf_"
      }
    },
    {
      "cell_type": "code",
      "source": [
        "flight.drop('price3',axis=1).head()"
      ],
      "metadata": {
        "id": "Xfd_c6EUwLCd"
      },
      "execution_count": null,
      "outputs": []
    },
    {
      "cell_type": "code",
      "source": [
        "flight.drop(index=100,axis=0).head()"
      ],
      "metadata": {
        "id": "aiIfe80oyA8P"
      },
      "execution_count": null,
      "outputs": []
    },
    {
      "cell_type": "markdown",
      "source": [
        "하지만 원본 데이터프레임을 확인해보면 price3가 삭제 되지 않았다.\n",
        "\n",
        "원본 데이터 프레임에서 삭제하는 방법은 2가지가 있다.\n",
        "\n",
        "1. drop 메소드를 활용하여 지운 후 다른 데이터프레임에 저장하는 방법\n",
        "2. drop 메소드의 파라미터인 inplace를 이용하여 원본데이터프레임에서 데이터를 지우는 것이다. inplace=True"
      ],
      "metadata": {
        "id": "05ZK1E7PyT8W"
      }
    },
    {
      "cell_type": "code",
      "source": [
        "flight1=flight.drop(columns='price3',axis=1)\n",
        "flight1.head()"
      ],
      "metadata": {
        "id": "oY_-MKeLyw_P"
      },
      "execution_count": null,
      "outputs": []
    },
    {
      "cell_type": "code",
      "source": [
        "flight.drop(axis=1,columns='price3',inplace=True)\n",
        "flight.head()"
      ],
      "metadata": {
        "id": "ELo6ZW4BzElM"
      },
      "execution_count": null,
      "outputs": []
    },
    {
      "cell_type": "markdown",
      "source": [
        "## 칼럼명 변경하기\n",
        "\n",
        "데이터 분석을 위한 데이터 전처리 과정은 프로젝트를 수행하는 다양한 팀이 참석하여 진행할 수 있으므로 원본 데이터의 칼럼명보다 단순하거나 직관적이어야한다.\n",
        "이때 rename 메소드를 활용하면 데이터 칼럼명을 변경할 수 있다."
      ],
      "metadata": {
        "id": "5-mHaZgJzXb0"
      }
    },
    {
      "cell_type": "code",
      "source": [
        "# 기존 airline 칼럼명과 source_city 칼럼명을 각각 airline_name, departure_city로 변경해보자.\n",
        "\n",
        "flight=flight.rename(columns={'airline':'airline_name','source_city':'departure_city'})\n",
        "flight.head()"
      ],
      "metadata": {
        "id": "7nHc-bFNzX0x"
      },
      "execution_count": null,
      "outputs": []
    },
    {
      "cell_type": "markdown",
      "source": [
        "## 데이터프레임 정렬하기\n",
        "\n",
        "데이터를 분석할 때 원하는 칼럼을 기준으로 데이터프레임을 정렬하여 조회할 때가 있다. `sort_values` 메소드를 이용하면 데이터 프레임을 정렬할 수 있다.\n",
        "\n",
        "`ascending` 파라미터를 False 로 저장하면 역순으로 정렬한다.\n"
      ],
      "metadata": {
        "id": "BwW8FvTszXyt"
      }
    },
    {
      "cell_type": "code",
      "source": [
        "# sort_values 메소드와 ascending 매개변수를 지정하여 데이터프레임 역순으로 정렬하기\n",
        "# Unnamed:0 기준으로 역순으로 정렬\n",
        "flight=flight.sort_values(ascending=False,by='Unnamed: 0')\n",
        "flight\n",
        "# 결과를 보면 Unnamed: 0 칼럼이 가장 큰 수부터 내림차순으로 정렬된 것을 확인할 수있다."
      ],
      "metadata": {
        "id": "U2Bug662zXvk"
      },
      "execution_count": null,
      "outputs": []
    },
    {
      "cell_type": "code",
      "source": [
        "flight=flight.sort_values(ascending=True,by='Unnamed: 0')\n",
        "flight"
      ],
      "metadata": {
        "id": "kt2Um6I5zXtZ"
      },
      "execution_count": null,
      "outputs": []
    },
    {
      "cell_type": "markdown",
      "source": [
        "# 데이터프레임 변경하기\n",
        "\n",
        "데이터프레임 자체를 변형하여 원하는 데이터 만들기\n"
      ],
      "metadata": {
        "id": "0HOA1LrC2hsJ"
      }
    },
    {
      "cell_type": "code",
      "source": [
        "flight=pd.read_csv(\"./Clean_Dataset.csv\",encoding='cp949')\n",
        "flight"
      ],
      "metadata": {
        "id": "MIY83CNg2pS8"
      },
      "execution_count": null,
      "outputs": []
    },
    {
      "cell_type": "markdown",
      "source": [
        "## 그룹화하기\n",
        "1) groupby 메소드 : 데이트프레임의 같은 값을 하나로 묶어서 통계나 집계 결과를 확인하기 위해 사용\n",
        "  \n",
        "  예를 들어, 기상 데이터를 날짜별, 도시별로 값을 묶어서 통계나 집계 결과를 확인할 수 있음\n",
        "\n",
        "  groupby 내부 메소드\n",
        "\n",
        "  - count(): 데이터 갯수\n",
        "  - size(): 집단별 크기\n",
        "  - sum(): 데이터의 합\n",
        "  - mean, std, var: 평균 표준편차 분산\n",
        "  - min, max: 최소 최대"
      ],
      "metadata": {
        "id": "fz7uxEzR3R_6"
      }
    },
    {
      "cell_type": "markdown",
      "source": [
        "### grouby"
      ],
      "metadata": {
        "id": "gAHBTwgRDFhr"
      }
    },
    {
      "cell_type": "code",
      "source": [
        "# airline 칼럼 기준으로 그룹화하기\n",
        "airline_group=flight.groupby('airline')\n",
        "airline_group.groups\n",
        "\n",
        "# 가독성이 좋지 않으므로 groupby 내부 메소드를 활용하여 데이터 확인하기.\n",
        "airline_group.count()"
      ],
      "metadata": {
        "id": "H95guypN3p5A"
      },
      "execution_count": null,
      "outputs": []
    },
    {
      "cell_type": "code",
      "source": [
        "# 최소값 확인\n",
        "airline_group.min()"
      ],
      "metadata": {
        "id": "DrHLUNHr661f"
      },
      "execution_count": null,
      "outputs": []
    },
    {
      "cell_type": "code",
      "source": [
        "# 최소값 확인\n",
        "airline_group.max()"
      ],
      "metadata": {
        "id": "hwZJVGHA4bZo"
      },
      "execution_count": null,
      "outputs": []
    },
    {
      "cell_type": "code",
      "source": [
        "# 특정 칼럼 값만 확인\n",
        "\n",
        "airline_group.mean()[['price']]"
      ],
      "metadata": {
        "id": "LWKdxy_V7Fod"
      },
      "execution_count": null,
      "outputs": []
    },
    {
      "cell_type": "code",
      "source": [
        "# groupby를 이용하여 다중 인덱싱 설정하기\n",
        "flight.groupby(['airline','arrival_time']).mean()"
      ],
      "metadata": {
        "id": "g6MoRvm27lvU"
      },
      "execution_count": null,
      "outputs": []
    },
    {
      "cell_type": "code",
      "source": [
        "# groupby 후 원하는 데이터만 가져오기\n",
        "\n",
        "flight.groupby(['airline','arrival_time']).mean().loc[[('AirAsia','Evening')]]"
      ],
      "metadata": {
        "id": "i4KSHkfc8Wrm"
      },
      "execution_count": null,
      "outputs": []
    },
    {
      "cell_type": "markdown",
      "source": [
        "### 인덱스로 그룹화하기\n",
        "\n",
        "set_index: 칼럼을 인덱스로 변경하는 경우에 사용\n",
        "기존의 인덱스를 제거하고 칼럼 중 하나를 인덱스로 설정"
      ],
      "metadata": {
        "id": "7AFLg5L08WqE"
      }
    },
    {
      "cell_type": "code",
      "source": [
        "# set_index로 인덱스 설정하기\n",
        "\n",
        "flight.set_index(['airline','arrival_time'])\n",
        "\n",
        "# 인덱스만 설정한 것일뿐 그룹화를 수행한 것은 아님"
      ],
      "metadata": {
        "id": "QuFyFRtv8Woc"
      },
      "execution_count": null,
      "outputs": []
    },
    {
      "cell_type": "code",
      "source": [
        "flight"
      ],
      "metadata": {
        "id": "0kaKyUk5z6WB"
      },
      "execution_count": null,
      "outputs": []
    },
    {
      "cell_type": "code",
      "source": [
        "flight.set_index(['airline','arrival_time','destination_city']).groupby(level=[0,1,2]).mean()"
      ],
      "metadata": {
        "id": "nGXDKbPD8WlJ"
      },
      "execution_count": null,
      "outputs": []
    },
    {
      "cell_type": "markdown",
      "source": [
        "### Aggregate로 집계하기\n",
        "데이터프레임의 값을 다양하게 집계하여 한 번에 볼 수 있다.\n"
      ],
      "metadata": {
        "id": "YNkg_5oO8WhN"
      }
    },
    {
      "cell_type": "code",
      "source": [
        "# aggregate 메소드를 이용하여 groupby 후 평균값과 최댓값 확인하기\n",
        "\n",
        "flight.set_index(['airline','arrival_time']).groupby(level=[0,1]).aggregate([np.mean,np.max])"
      ],
      "metadata": {
        "id": "GdmPacJA8WcU"
      },
      "execution_count": null,
      "outputs": []
    },
    {
      "cell_type": "markdown",
      "source": [
        "## 피벗테이블\n",
        "pivot과 pivot_table 메소드는 행 데이터를 열 데이터로 회전할 수 있다.\n",
        "\n"
      ],
      "metadata": {
        "id": "GpaY19guS7dU"
      }
    },
    {
      "cell_type": "markdown",
      "source": [
        "### pivot / pivot_table을 위한 데이터프레임 만들기\n"
      ],
      "metadata": {
        "id": "y64oRJGmI2FD"
      }
    },
    {
      "cell_type": "code",
      "source": [
        "import numpy as np\n",
        "import pandas as np\n",
        "\n",
        "pivot_data=pd.DataFrame({'cust_id':['cust_1','cust_1','cust_1','cust_2','cust_2','cust_2','cust_3','cust_3','cust_3'],\n",
        "                         'prod_cd':['p1','p2','p3','p1','p2','p3','p1','p2','p3'],\n",
        "                         'grade':['A','A','A','A','A','A','B','B','B'],\n",
        "                         'purch_amt':[30,10,0,40,15,30,0,0,10]})\n",
        "\n",
        "pivot_data"
      ],
      "metadata": {
        "id": "gq7AusVbTfcG"
      },
      "execution_count": null,
      "outputs": []
    },
    {
      "cell_type": "code",
      "source": [
        "pivot_data.pivot(index='cust_id',columns='prod_cd',values='purch_amt')"
      ],
      "metadata": {
        "id": "EUBABdJyUYCY"
      },
      "execution_count": null,
      "outputs": []
    },
    {
      "cell_type": "code",
      "source": [
        "pivot_data.pivot_table(index='grade',columns='prod_cd',values='purch_amt')"
      ],
      "metadata": {
        "id": "8leOGJGYXzPk"
      },
      "execution_count": null,
      "outputs": []
    },
    {
      "cell_type": "markdown",
      "source": [
        "## 인덱스 및 칼럼 레벨 변경 stack / unstack 메소드\n",
        "\n",
        "- stack 은 칼럼 레벨에서 인덱스 레벨로 데이터 프레임을 변경합니다.\n",
        "\n",
        "  데이터를 행의 레벨로 쌓아 올리는 개념으로 이해하자\n",
        "\n",
        "- unstack은 인덱스 레벨에서 칼럼 레벨로 위치를 변경하여 데이터를 쌓아 올림."
      ],
      "metadata": {
        "id": "bZdtjdcFY1KA"
      }
    },
    {
      "cell_type": "code",
      "source": [
        "import numpy as np\n",
        "import pandas as pd\n",
        "\n",
        "stack_data=pd.DataFrame({\n",
        "    'Location':['Seoul','Seoul','Seoul','kyounggi','kyounggi','Busan','Seoul','Seoul','Busan','kyounggi','kyounggi','kyounggi'],\n",
        "    'Day':['Mon','Tue','Wed','Mon','Tue','Mon','Thu','Fri','Tue','Wed','Thu','Fri'],\n",
        "    'Ranfall':[100,80,1000,200,200,100,50,100,200,100,50,100],\n",
        "    'Rainfall_precipitation':[80,70,90,10,20,30,50,90,20,80,50,10],\n",
        "    'Temp':[32,27,32,31,30,28,27,25,26,33,34,31]\n",
        "})\n",
        "\n",
        "stack_data"
      ],
      "metadata": {
        "id": "QtqbGTs4aIIw"
      },
      "execution_count": null,
      "outputs": []
    },
    {
      "cell_type": "markdown",
      "source": [
        "### Unstack (인덱스 레벨에서 칼럼 레벨로 위치를 변경하여 데이터를 쌓아 올림)"
      ],
      "metadata": {
        "id": "Relq455PdHQl"
      }
    },
    {
      "cell_type": "code",
      "source": [
        "new_stack_data=stack_data.set_index(['Location','Day'])\n",
        "new_stack_data"
      ],
      "metadata": {
        "id": "k38_WbV9eN1C"
      },
      "execution_count": null,
      "outputs": []
    },
    {
      "cell_type": "code",
      "source": [
        "new_stack_data.unstack(0) # 인덱스 레벨 0이었던 Location을 칼럼으로 만듦"
      ],
      "metadata": {
        "id": "YigYUzDDcW0Y"
      },
      "execution_count": null,
      "outputs": []
    },
    {
      "cell_type": "code",
      "source": [
        "new_stack_data.unstack(1)"
      ],
      "metadata": {
        "id": "fBZ3D2jtc8yM"
      },
      "execution_count": null,
      "outputs": []
    },
    {
      "cell_type": "markdown",
      "source": [
        "### stack (칼럼 레벨에서 인덱스 레벨로 데이터 프레임을 변경)\n"
      ],
      "metadata": {
        "id": "LVDcIv7IdEu-"
      }
    },
    {
      "cell_type": "code",
      "source": [
        "new_stack_data=new_stack_data.unstack(1)\n",
        "new_stack_data.stack(1)"
      ],
      "metadata": {
        "id": "U2J905UEdTcy"
      },
      "execution_count": null,
      "outputs": []
    },
    {
      "cell_type": "markdown",
      "source": [
        "## 데이터프레임 병합하기\n",
        "\n",
        "데이터 전처리 과정에서 데이터 병합이 필요한 상황도 많이 발생한다.\n",
        "2개 이상의 데이터프레임을 병합하는 방법을 알아본다.\n",
        "\n"
      ],
      "metadata": {
        "id": "dLRWxDRndpe6"
      }
    },
    {
      "cell_type": "markdown",
      "source": [
        "### concat을 이용하여 병합하기\n",
        "\n",
        "> 파라미터 중 `ignore_index`와 `axis`의 값을 비교\n",
        "\n",
        "`ignore_index`\n",
        "\n",
        "1.   False - 기존 인덱스를 유지\n",
        "2.   True - 기존 인덱스 무시 (인덱스 재배열)\n",
        "\n",
        "\n",
        "`axis` : 데이터프레임을 행 레벨로 병합인지, 칼럼 레벨로 병합할 것인지 정의\n",
        "1.  0 (행 레벨로 병합) 세로로 합치기\n",
        "2.  1 (칼럼 레벨로 병합) 가로로 합치기\n",
        "\n",
        "\n",
        "\n",
        "\n",
        "\n",
        "\n"
      ],
      "metadata": {
        "id": "aPb0H_5sfjUo"
      }
    },
    {
      "cell_type": "code",
      "source": [
        "# concat을 위한 데이터프레임 만들기\n",
        "\n",
        "import numpy as np\n",
        "import pandas as pd\n",
        "\n",
        "df1=pd.DataFrame({'col1':['사과','배','감','수박','멜론'],\n",
        "                  'col2':[500,1000,2500,5000,3000]},\n",
        "                 index=[0,1,2,3,4])\n",
        "\n",
        "df2=pd.DataFrame({'col1':['수박','멜론','딸기','키위','오렌지'],\n",
        "                  'col2':[5000,3000,1000,600,700]},\n",
        "                 index=[3,4,5,6,7])\n",
        "\n",
        "df2"
      ],
      "metadata": {
        "id": "sCPprTaPfjtf"
      },
      "execution_count": null,
      "outputs": []
    },
    {
      "cell_type": "code",
      "source": [
        "pd.concat([df1,df2],ignore_index=True)"
      ],
      "metadata": {
        "id": "1uv2-N7WfjnH"
      },
      "execution_count": null,
      "outputs": []
    },
    {
      "cell_type": "code",
      "source": [
        "df1"
      ],
      "metadata": {
        "id": "UdQrl-2FhqrA"
      },
      "execution_count": null,
      "outputs": []
    },
    {
      "cell_type": "code",
      "source": [
        "df2"
      ],
      "metadata": {
        "id": "kjNXwBJOhqpM"
      },
      "execution_count": null,
      "outputs": []
    },
    {
      "cell_type": "code",
      "source": [
        "pd.concat([df1,df2],axis=0,ignore_index=True)"
      ],
      "metadata": {
        "id": "4hPX7ih3hkRy"
      },
      "execution_count": null,
      "outputs": []
    },
    {
      "cell_type": "code",
      "source": [
        "pd.concat([df1,df2],axis=1)\n",
        "\n",
        "# df1,df2 는 칼럼명이 동일하지만, 나란히 칼럼명들이 각각 쓰여 있고,\n",
        "# 동일한 인덱스의 경우 나란히 합쳐지고. 서로 다른 인덱스인 경우 NaN을 출력한다."
      ],
      "metadata": {
        "id": "SqY1hOsahkVB"
      },
      "execution_count": null,
      "outputs": []
    },
    {
      "cell_type": "markdown",
      "source": [
        "### 칼럼명이 다른 경우 (concat)\n",
        "\n",
        "칼럼명이 다른 데이터 플레임을 생성하여 concat의 파라미터 중 join을 통해 확인해본다.\n",
        "\n",
        "# join =\n",
        "1.   outer (합집합)\n",
        "2.   inner (교집합)\n",
        "\n"
      ],
      "metadata": {
        "id": "nXm8A98chkQA"
      }
    },
    {
      "cell_type": "code",
      "source": [
        "df3=pd.DataFrame({'item':['item0','item1','item2','item3'],\n",
        "                  'count':['count0','count1','count2','count3'],\n",
        "                  'price':['price0','price1','price2','price3']},\n",
        "                 index=[0,1,2,3])\n",
        "\n",
        "df4=pd.DataFrame({'item':['item2','item3','item4','item5'],\n",
        "                  'count':['count2','count3','count4','count5'],\n",
        "                  'price':['price2','price3','price4','price5'],\n",
        "                  'var':['var2','var3','var4','var5']},\n",
        "                 index=[2,3,4,5])"
      ],
      "metadata": {
        "id": "afOHCfAzhkEf"
      },
      "execution_count": null,
      "outputs": []
    },
    {
      "cell_type": "code",
      "source": [
        "pd.concat([df3,df4],\n",
        "          join='outer')"
      ],
      "metadata": {
        "id": "vBaHAwRihkDP"
      },
      "execution_count": null,
      "outputs": []
    },
    {
      "cell_type": "code",
      "source": [
        "pd.concat([df3,df4],\n",
        "          join='inner')"
      ],
      "metadata": {
        "id": "z1QKyxUmhkB2"
      },
      "execution_count": null,
      "outputs": []
    },
    {
      "cell_type": "markdown",
      "source": [
        "outer 방식은 df3에 없는 'var' 칼럼 값 까지 병합하고,\n",
        "inner 방식은 공통으로 존재하는 칼럼만 병합한다.\n"
      ],
      "metadata": {
        "id": "DZyt1MrSnezK"
      }
    },
    {
      "cell_type": "markdown",
      "source": [
        "### 인덱스가 중복인  (concat)\n",
        "\n",
        "> 들여쓴 블록\n",
        "\n",
        "\n",
        "인덱스가 중복이 있는 데이터프레임을 병합하는 경우 concat 함수의 파라미터 중\n",
        "\n",
        "verify_integrity 속성을 사용한다\n",
        "\n",
        "이 속성은 데이터프레임에서 인덱스 중복 여부를 점검하는 파라미터이며,\n",
        "\n",
        "Default 값은 False이고 인덱스 중복으로 인한 에러가 발생하지 않는다."
      ],
      "metadata": {
        "id": "4cDjnOH2nqMr"
      }
    },
    {
      "cell_type": "code",
      "source": [
        "df5=pd.DataFrame({'A':['A0','A1','A2'],\n",
        "                  'B':['B0','B1','B2'],\n",
        "                  'C':['C0','C1','C2'],\n",
        "                  'D':['D0','D1','D2']},\n",
        "                 index=['I0','I1','I2'])\n",
        "\n",
        "df6=pd.DataFrame({'A':['AA2','A3','A4'],\n",
        "                  'B':['BB2','B3','B4'],\n",
        "                  'C':['CC2','C3','C4'],\n",
        "                  'D':['DD2','D3','D4']},\n",
        "                 index=['I2','I3','I4'])"
      ],
      "metadata": {
        "id": "FOdhYG6uoED9"
      },
      "execution_count": null,
      "outputs": []
    },
    {
      "cell_type": "code",
      "source": [
        "pd.concat([df5,df6],verify_integrity=True)\n",
        "\n",
        "# 인덱스 중복인거 확인 ['I2'] 이 인덱스 중복"
      ],
      "metadata": {
        "id": "cHQEnQkcoEi3"
      },
      "execution_count": null,
      "outputs": []
    },
    {
      "cell_type": "markdown",
      "source": [
        "## merge/join 함수 활용하여 병합하기\n",
        "\n",
        "특정한 key를 기준으로 데이터프레임을 병합할 수 있다.\n"
      ],
      "metadata": {
        "id": "PSmB8CwOoEg6"
      }
    },
    {
      "cell_type": "code",
      "source": [
        "import numpy as np\n",
        "import pandas as pd\n",
        "\n",
        "customer=pd.DataFrame({'customer_id':np.arange(6),\n",
        "                       'name':['James','Elly','Tom','Givert','Aiden','Brody'],\n",
        "                       '나이':[40,20,21,30,31,18]})\n",
        "\n",
        "orders=pd.DataFrame({'customer_id':[1,1,2,2,2,3,3,1,4,9],\n",
        "                     'item':['마우스','충전기','이어폰','헤드셋','전자펜','키보드',\n",
        "                             '전자펜','마우스','키보드','케이스'],\n",
        "                     'quantity':[1,2,1,1,3,2,2,3,2,1]})\n",
        "\n"
      ],
      "metadata": {
        "id": "bYMPiZpSoEcC"
      },
      "execution_count": null,
      "outputs": []
    },
    {
      "cell_type": "markdown",
      "source": [
        "merge 함수는 서로 다른 형태와 값의 데이터프레임을 병합할 때 사용,\n",
        "merge 함수의 on 파라미터를 통해 어떤 칼럼을 이용하여 merge 할 것 인지 정의하고,\n",
        "how 파라미터를 이용하여 merge를 정의할 수 있다.\n",
        "\n",
        "how 파라미터로 정의할 수 있는 방법은 총 4가지\n",
        "- 1. inner: 일치하는 값이 있는 경우에만 가져온다.\n",
        "- 2. left: 왼쪽 데이터프레임을 기준으로 오른쪽 데이터프레임을 병합한다\n",
        "- 3. right: 오른쪽 데이터프레임을 기준으로 왼쪽 데이터프레임을 병합한다.\n",
        "- 4. outer: left와 right를 합한 데이터프레임을 병합한다."
      ],
      "metadata": {
        "id": "T-DaI50OoEad"
      }
    },
    {
      "cell_type": "markdown",
      "source": [
        "### merge 함수의 속성 on 이해하기"
      ],
      "metadata": {
        "id": "J9p5BRe8oEYH"
      }
    },
    {
      "cell_type": "code",
      "source": [
        "pd.merge(customer,orders,on='customer_id')\n",
        "# customer_id를 기준으로 두 데이터프레임 병합"
      ],
      "metadata": {
        "id": "DuIkWDwZvNns"
      },
      "execution_count": null,
      "outputs": []
    },
    {
      "cell_type": "markdown",
      "source": [
        "### merge 함수의 속성 how 이해하기\n",
        "\n",
        "how='inner' 가 default 값\n"
      ],
      "metadata": {
        "id": "VQYRHBpQvNmB"
      }
    },
    {
      "cell_type": "code",
      "source": [
        "customer"
      ],
      "metadata": {
        "id": "uXCvZGgVwhOc"
      },
      "execution_count": null,
      "outputs": []
    },
    {
      "cell_type": "code",
      "source": [
        "orders"
      ],
      "metadata": {
        "id": "Gjd5Q7WkwhHf"
      },
      "execution_count": null,
      "outputs": []
    },
    {
      "cell_type": "code",
      "source": [
        "pd.merge(customer,orders,on='customer_id',how='inner')\n",
        "\n",
        "# 이렇게 되면 name의 James와 customer_id = 9 가 누락됨"
      ],
      "metadata": {
        "id": "unZYWB0LvNj_"
      },
      "execution_count": null,
      "outputs": []
    },
    {
      "cell_type": "code",
      "source": [
        "pd.merge(customer,orders,on='customer_id',how='left')\n",
        "\n",
        "# 왼쪽 customer 데이터프레임을 기준으로 order 데이터프레임을 병합한 것이므로,\n",
        "# customer_id=0 인 경우와 5인 경우가 orders 데이터프레임에는 존재하지 않기 때문에 NaN 이 채워짐"
      ],
      "metadata": {
        "id": "OXUJgCPVvNh3"
      },
      "execution_count": null,
      "outputs": []
    },
    {
      "cell_type": "code",
      "source": [
        "pd.merge(customer,orders,on='customer_id',how='right')\n",
        "\n",
        "# orders 데이터프레임을 기준으로 칼럼 'customer_id'를 이용하여 병합한 결과\n",
        "# orders 데이터프레임을 기준으로 하였기때문에, customer 데이터프레임에만 존재하는 customer_id=0과 customer_id=5 인 경우에 결과가 보이지 않는다.\n",
        "# orders customer_id가 9인 item=케이스인 항목이 보임."
      ],
      "metadata": {
        "id": "UIJsieruvNfS"
      },
      "execution_count": null,
      "outputs": []
    },
    {
      "cell_type": "code",
      "source": [
        "pd.merge(customer,orders,on='customer_id',how='outer')\n",
        "\n",
        "# 두 데이터프레임의 'customer_id'를 모두 활용하여 병합한 결과"
      ],
      "metadata": {
        "id": "OrHBswjPvNc6"
      },
      "execution_count": null,
      "outputs": []
    },
    {
      "cell_type": "markdown",
      "source": [
        "# 문제 1. 데이터 프레임 병합하기 에서 customer, orders 데이터프레임을 사용할 경우 가장 많이 팔린 아이템은 무엇인가??"
      ],
      "metadata": {
        "id": "08lKAhMj1bWY"
      }
    },
    {
      "cell_type": "code",
      "source": [
        "customer, orders"
      ],
      "metadata": {
        "id": "nOOXoOzgoEWB"
      },
      "execution_count": null,
      "outputs": []
    },
    {
      "cell_type": "code",
      "source": [
        "orders.set_index(['item']).groupby(level=0).sum().sort_values(by='quantity',ascending=False).drop(columns='customer_id')\n",
        "# 전자펜이 제일 많이 팔림"
      ],
      "metadata": {
        "id": "P8Rs8aJE2XVb"
      },
      "execution_count": null,
      "outputs": []
    },
    {
      "cell_type": "markdown",
      "source": [
        "# customer, orders 데이터프레임을 사용할 경우 Elly 가 가장많이 구매한 물건은? (merge,groupby,loc) 활용\n",
        "\n"
      ],
      "metadata": {
        "id": "tud7ONQ-2RQ-"
      }
    },
    {
      "cell_type": "code",
      "source": [
        "df1=pd.merge(customer,orders,on='customer_id',how='right')\n",
        "df1.groupby(['name','item']).sum().loc['Elly']"
      ],
      "metadata": {
        "id": "-nMOqqehoEUJ"
      },
      "execution_count": null,
      "outputs": []
    }
  ]
}