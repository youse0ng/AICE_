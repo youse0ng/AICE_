{
  "nbformat": 4,
  "nbformat_minor": 0,
  "metadata": {
    "colab": {
      "private_outputs": true,
      "provenance": [],
      "toc_visible": true,
      "authorship_tag": "ABX9TyOwZ3vRFdnYjg/FPJZSuKJ3",
      "include_colab_link": true
    },
    "kernelspec": {
      "name": "python3",
      "display_name": "Python 3"
    },
    "language_info": {
      "name": "python"
    }
  },
  "cells": [
    {
      "cell_type": "markdown",
      "metadata": {
        "id": "view-in-github",
        "colab_type": "text"
      },
      "source": [
        "<a href=\"https://colab.research.google.com/github/youse0ng/AICE_/blob/main/AICE_02_%EB%8D%B0%EC%9D%B4%ED%84%B0_%ED%9A%8D%EB%93%9D%ED%95%98%EA%B8%B0.ipynb\" target=\"_parent\"><img src=\"https://colab.research.google.com/assets/colab-badge.svg\" alt=\"Open In Colab\"/></a>"
      ]
    },
    {
      "cell_type": "markdown",
      "source": [
        "# 01. 파이썬 데이터 분석 라이브러리\n",
        "Numpy 와 Pandas\n",
        "\n",
        "Numpy 수치 데이터 다루는데 활용하는 라이브러리\n",
        "\n",
        "Pandas 데이터 배열이나 테이블 형태의 데이터 등의 자료구조를 처리하기 위한 라이브러리\n",
        "\n",
        "판다스에서 많이 사용하는 자료구조는 시리즈와 데이터프레임이다\n",
        "시리즈는 1차원으로 구성된 데이터 배열이고, 데이터 프레임은 행과 열로 이루어진 2차원 데이터 테이블이다.\n"
      ],
      "metadata": {
        "id": "TNv82ASoptPP"
      }
    },
    {
      "cell_type": "code",
      "source": [
        "# 눈여겨 볼것은\n",
        "import pandas as pd\n",
        "import numpy as np\n",
        "\n",
        "a=np.array([1,2,3,4,5])\n",
        "b=np.array(['대한민국','가나','포루투갈','우루과이'])\n",
        "c=np.array([1,2,'가나','대한민국'])\n",
        "\n",
        "print(c)\n",
        "# c를 보면 ['1' '2' '가나' '대한민국']로 1,2가 문자열로 바꾸어져있다."
      ],
      "metadata": {
        "id": "QsycWzl72QDh"
      },
      "execution_count": null,
      "outputs": []
    },
    {
      "cell_type": "code",
      "source": [
        "a1=pd.DataFrame({\"a\":[1,2,3],\"b\":[4,5,6],\"c\":[7,8,9]})\n",
        "\n",
        "a2=pd.DataFrame([[1,2,3],[4,5,6],[7,8,9]],[\"a\",'b','c'])\n",
        "print(a1) # 열로 만드는 데이터 프레임\n",
        "\n",
        "print(a2) # 행으로 만드는 데이터 프레임"
      ],
      "metadata": {
        "id": "pbe-Q6Q02wSs"
      },
      "execution_count": null,
      "outputs": []
    },
    {
      "cell_type": "markdown",
      "source": [
        "# 02. 데이터 불러오기\n",
        "\n",
        "다양한 형태의 데이터를 불러오기 위해 pandas의 read_XXX 함수를 주로 사용한다.\n",
        "ex) `read_csv`, `read_json`, `read_html` 등이 존재."
      ],
      "metadata": {
        "id": "gh44rGdw8V_k"
      }
    },
    {
      "cell_type": "code",
      "source": [
        "flight=pd.read_csv(\"/content/Clean_Dataset.csv\")\n",
        "flight"
      ],
      "metadata": {
        "id": "wPCRB6pB2wO0"
      },
      "execution_count": null,
      "outputs": []
    },
    {
      "cell_type": "markdown",
      "source": [
        "# 03 데이터 저장하기\n",
        "\n",
        "데이터 분석을 진행하다 보면 원래의 데이터를 가공하고 해당 데이터를 저장해야하는 경우가 발생한다.\n",
        "\n",
        "데이터 가공 후에 데이터를 저장하는 방법을 알아본다.\n",
        "\n",
        "Pandas에서 데이터를 저장할 때는 `to_csv` 함수를 이용한다."
      ],
      "metadata": {
        "id": "XAZsN_xcH-EO"
      }
    },
    {
      "cell_type": "code",
      "source": [
        "a2=pd.DataFrame([[1,2,3],[4,5,6],[7,8,9]],['a','b','c'])\n",
        "a2\n",
        "\n",
        "#a2를 result_a2.csv파일로 저장하기\n",
        "a2.to_csv('./result2_a2.csv')\n",
        "\n",
        "# result2_a2.csv 읽어오기\n",
        "result=pd.read_csv('./result2_a2.csv')\n",
        "result"
      ],
      "metadata": {
        "id": "XXKg0JzUIhas"
      },
      "execution_count": null,
      "outputs": []
    },
    {
      "cell_type": "code",
      "source": [
        "#read_csv함수가 가지는 다양한 파라미터를 이용하여 원하는 칼럼만 가지고 데이터 프레임 구성하기.\n",
        "flight2=pd.read_csv(\"/content/Clean_Dataset.csv\",index_col='stops',usecols=['stops','departure_time','arrival_time','destination_city'])\n",
        "# index_col: 인덱스로 설정할 칼럼을 정의, # usecols는 실제로 데이터 프레임에 불러올 칼럼들만 정의할 수 있다. usecols의 주의할 점은 index_col로 설정한 칼럼명을 반드시 포함해야함.\n",
        "flight2"
      ],
      "metadata": {
        "id": "7ZwKgYU7JsnC"
      },
      "execution_count": null,
      "outputs": []
    },
    {
      "cell_type": "code",
      "source": [
        "flight"
      ],
      "metadata": {
        "id": "kiMuSJAsMxhU"
      },
      "execution_count": null,
      "outputs": []
    },
    {
      "cell_type": "code",
      "source": [
        "#`crosstab` 은 판다스 라이브러리에서 범주형 데이터 2개를 비교 분석할 때 사용\n",
        "\n",
        "pd.crosstab(index=flight.source_city,columns=flight.arrival_time)\n",
        "\n",
        "# 'source_city' 칼럼을 인덱스로 해서  도착 시간별 비행편이 얼마나 있는지 알려줌."
      ],
      "metadata": {
        "id": "9wOBos1GL9HC"
      },
      "execution_count": null,
      "outputs": []
    },
    {
      "cell_type": "code",
      "source": [],
      "metadata": {
        "id": "iplpvTnoL9C8"
      },
      "execution_count": null,
      "outputs": []
    }
  ]
}