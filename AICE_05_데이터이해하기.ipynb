{
  "nbformat": 4,
  "nbformat_minor": 0,
  "metadata": {
    "colab": {
      "private_outputs": true,
      "provenance": [],
      "toc_visible": true,
      "authorship_tag": "ABX9TyP2hiAYsnwTuu04eFMADuOu",
      "include_colab_link": true
    },
    "kernelspec": {
      "name": "python3",
      "display_name": "Python 3"
    },
    "language_info": {
      "name": "python"
    }
  },
  "cells": [
    {
      "cell_type": "markdown",
      "metadata": {
        "id": "view-in-github",
        "colab_type": "text"
      },
      "source": [
        "<a href=\"https://colab.research.google.com/github/youse0ng/AICE_/blob/main/AICE_05_%EB%8D%B0%EC%9D%B4%ED%84%B0%EC%9D%B4%ED%95%B4%ED%95%98%EA%B8%B0.ipynb\" target=\"_parent\"><img src=\"https://colab.research.google.com/assets/colab-badge.svg\" alt=\"Open In Colab\"/></a>"
      ]
    },
    {
      "cell_type": "markdown",
      "source": [
        "# 지표로 데이터 탐색하기\n",
        "\n",
        "탐색적 데이터 분석은 데이터를 탐색하고 이해하는 것으로 시작한다.\n",
        "\n",
        "변수를 기준으로 1개의 변수만 분석하는 일변량 분석과 2개 이상의 변수 간의 관계를 분석하는 다변량 분석으로 나눠 데이터를 탐색하는 방법을 알아보자.\n"
      ],
      "metadata": {
        "id": "AksvEstj-hhT"
      }
    },
    {
      "cell_type": "markdown",
      "source": [
        "### 일변량 비시각화 탐색하기"
      ],
      "metadata": {
        "id": "ri53L3r4ADYU"
      }
    },
    {
      "cell_type": "code",
      "execution_count": null,
      "metadata": {
        "id": "H0EBh74m7UFx"
      },
      "outputs": [],
      "source": [
        "import numpy as np\n",
        "import pandas as pd\n",
        "\n",
        "df=pd.read_csv(\"/content/Clean_Dataset.csv\")\n",
        "\n",
        "df"
      ]
    },
    {
      "cell_type": "code",
      "source": [
        "df.drop([df.columns[0]],inplace=True,axis=1)\n",
        "df"
      ],
      "metadata": {
        "id": "Sq4ldvSa-1h_"
      },
      "execution_count": null,
      "outputs": []
    },
    {
      "cell_type": "markdown",
      "source": [
        "#### 요약 통계량 확인하기 `describe(include='all')"
      ],
      "metadata": {
        "id": "hgM50mNJAOzt"
      }
    },
    {
      "cell_type": "code",
      "source": [
        "# 수치형 데이터의 요약 통계량 확인하기\n",
        "df.describe()"
      ],
      "metadata": {
        "id": "ug5AbPXY-1fu"
      },
      "execution_count": null,
      "outputs": []
    },
    {
      "cell_type": "code",
      "source": [
        "# 모든 칼럼에 대한 요약 통계량 확인하기\n",
        "df.describe(include='all')"
      ],
      "metadata": {
        "id": "LayiUwHz-1eC"
      },
      "execution_count": null,
      "outputs": []
    },
    {
      "cell_type": "markdown",
      "source": [
        "- 1. unique: 범주의 갯수\n",
        "- 2. top: 최빈값\n",
        "- 3. freq: 해당 칼럼에서 최빈값이 존재하는 갯수"
      ],
      "metadata": {
        "id": "sOe_3Vo0AhLN"
      }
    },
    {
      "cell_type": "markdown",
      "source": [
        "#### 빈도표 확인하기 (value_counts())\n",
        "\n",
        "범주형 데이터의 경우 빈도표, 빈도밀도 등을 구해서 추가데이터를 탐색할 수 있다.\n",
        "\n",
        "`value_counts` 메소드를 사용하면 각 칼럼의 빈도를 보여주어\n",
        "\n",
        "오입력 데이터나 무입력 데이터 등도 빠르게 확인할 수 있다.\n",
        "\n",
        "범주형 데이터 탐색에 많이 사용됨\n",
        "\n"
      ],
      "metadata": {
        "id": "BB2i-cqq-1cC"
      }
    },
    {
      "cell_type": "code",
      "source": [
        "#airline,source_city,destination_city의 빈도표 확인\n",
        "\n",
        "print(df['airline'].value_counts())\n",
        "print(df['source_city'].value_counts())\n",
        "print(df['destination_city'].value_counts())"
      ],
      "metadata": {
        "id": "zJ6xWn-M-1Z_"
      },
      "execution_count": null,
      "outputs": []
    },
    {
      "cell_type": "markdown",
      "source": [
        "### 다변량 비시각화 탐색하기\n",
        "\n",
        "\n"
      ],
      "metadata": {
        "id": "g_8ytIya-1X-"
      }
    },
    {
      "cell_type": "markdown",
      "source": [
        "#### 상관계수 확인하기 df.corr()\n",
        "\n",
        "두 변수 간의 선형 상관관계를 계량화한 수치\n",
        "\n",
        "[-1,+1] 사이의 값을 가지며 -1에 가까울수록 음의 상관관계,\n",
        "\n",
        "+1에 가까울수록 양의 상관관계를 의미.\n",
        "\n",
        "주의할 점은 -1에 가까울수록 두 변수가 상관관계가 없는 것이 아니라\n",
        "\n",
        "0에 가까울수록 두 변수가 상관관계가 없다는 점이다.\n",
        "\n",
        "- 양의 상관관계: 두 변량 x와 y가 어떤 한 값이 커짐에 따라 다른 값도 같이 점차적으로 커지는 상관관계를 말한다.\n",
        "\n",
        "- 음의 상관관계: 어떤 두 변량이 있을 때, 한쪽이 증가하면 한쪽이 감소하는 경향을 갖는 관계를 음의 상관관계라고 한다. 즉, 어떤 두 변량을 x, y로 정의할 경우 x값이 커짐에 따라 y값이 작아지는 관계를 말한다."
      ],
      "metadata": {
        "id": "urZCB8mU-1V1"
      }
    },
    {
      "cell_type": "markdown",
      "source": [
        "다음 항공권 가격 예측 데이터의 칼럼 간의 상관관계를 확인해보자"
      ],
      "metadata": {
        "id": "WN_5NkHp-1UF"
      }
    },
    {
      "cell_type": "code",
      "source": [
        "df.corr()"
      ],
      "metadata": {
        "id": "ZpL0yhTK-1SN"
      },
      "execution_count": null,
      "outputs": []
    },
    {
      "cell_type": "markdown",
      "source": [
        "- 비행시간(duration)과 항공권 가격(price)은 약한 양의 상관관계를 보임\n",
        "\n",
        "- 출발까지 남은 일자(dats_left)와 항공권 가격(price)는 음의 상관관계를 보이지만, 0에 가까워서 상관관계가 없다고 봐도됨.\n",
        "\n",
        "하지만 단순히 데이터만 봐서는 정확하게 이해할 수 없다. 앞에서 출발까지 남은 일자와 항공권 가격 간의 상관관계가 없다고 밝혔지만,\n",
        "\n",
        "좀더 생각해보면, 항공권에는 좌석등급이라는 가격을 결정하는 주요 원인이 존재한다.\n",
        "\n",
        "한번 코드로 확인해보자."
      ],
      "metadata": {
        "id": "9Sjn6P_x-1FH"
      }
    },
    {
      "cell_type": "code",
      "source": [
        "df"
      ],
      "metadata": {
        "id": "EgUB0D9HEvQo"
      },
      "execution_count": null,
      "outputs": []
    },
    {
      "cell_type": "code",
      "source": [
        "df_economy=df[df['class']=='Economy'] # class==Economy에 한정하기\n",
        "df_economy"
      ],
      "metadata": {
        "id": "AO1NHO5C-1C1"
      },
      "execution_count": null,
      "outputs": []
    },
    {
      "cell_type": "code",
      "source": [
        "df_economy.corr()"
      ],
      "metadata": {
        "id": "hxvHQEbp-1A9"
      },
      "execution_count": null,
      "outputs": []
    },
    {
      "cell_type": "markdown",
      "source": [
        "위에서는 출발까지 남은기한(days_left)와 price 간의 상관관계가 없다고 판단하였지만,\n",
        "\n",
        "Economy (class) 변수에 대해 고려를 하니, -0.55로 음의 상관관계가 나타났다.\n",
        "\n",
        "즉, 빨리 구매할 수록 가격이 낮아지고, 출발 일자에 가까울수록 가격이 높아지는 것을 알 수 있다.\n",
        "\n",
        "다양한관점을 통해 데이터를 확인하기 위해서는 도메인 지식이 필요함을 알 수 있다.\n"
      ],
      "metadata": {
        "id": "w--ISbOWFCRm"
      }
    },
    {
      "cell_type": "markdown",
      "source": [
        "#### 교차표 확인하기 crosstab()\n",
        "\n",
        "상관계수가 수치형 데이터의 상관관계를 이해하는 데 사용되었다면,\n",
        "\n",
        "교차표는 두 범주형 데이터의 상관관계를 확인하는 방법이다.\n",
        "\n",
        "출발 도시별로 어느 시간에 비행기 이륙이 많은지,\n",
        "\n",
        "출발 도시와 출발 시간의 관계를 살펴보자\n",
        "\n",
        "source_city와 departure_time간의 관계\n",
        "\n",
        "pandas의 crosstab 함수를 이용한다.\n",
        "\n",
        "\n"
      ],
      "metadata": {
        "id": "biCZJXfzFC8m"
      }
    },
    {
      "cell_type": "code",
      "source": [
        "pd.crosstab(df['source_city'],df['departure_time'])"
      ],
      "metadata": {
        "id": "iGCqh5KXFC6v"
      },
      "execution_count": null,
      "outputs": []
    },
    {
      "cell_type": "markdown",
      "source": [
        "## 시각화로 데이터 탐색하기\n",
        "\n",
        "데이터의 시각화는 방대한 양의 데이터를 빠르게 확인하고 유의미한 특성을 찾아내는 중요한 작업으로 데이터를 이해하고 분석하는 데 여러 가지 용도로 사용됩니다.\n",
        "\n",
        "ex)\n",
        "1. 전테적인 데이터의 구조를 시각적으로 분석하거나 방향을 가늠\n",
        "\n",
        "2. 잘못 처리된 데이터가 존재하는지를 확인해서 수정하는데 도움\n",
        "\n",
        "3. 분석 및 모델링의 결과를 이해하고 의사 결정에 반영하기 쉽도록 보여줌\n",
        "\n",
        "데이터 시각화 라이브러리\n",
        "1.   matplotlib\n",
        "  *   line plot(선 그래프)\n",
        "  *   bar plot(막대 그래프)\n",
        "  *   pie plot(파이 그래프)\n",
        "  *   histogram(히스토그램)\n",
        "  *   box plot(상자 그래프)\n",
        "  *   scatter plot(산점도)\n",
        "\n",
        "\n",
        "2.  seaborn\n",
        "\n",
        "matplotlib 기반으로 만들어진 데이터 시각화 라이브러리\n",
        "다양한 색상과 통계 기능을 제공한다.\n",
        "\n",
        "\n",
        "\n"
      ],
      "metadata": {
        "id": "Nb5xO939FC41"
      }
    },
    {
      "cell_type": "markdown",
      "source": [
        "### 일변량 시각화 탐색하기\n",
        "\n",
        "figure,plot,show 3가지를 기억하면된다.\n",
        "\n",
        "figure는 시각화하는 영역을 지정한다.\n",
        "\n",
        "maplotlib.pyplot as plt로 선언하고 plt.figure로 사용합니다.\n",
        "\n",
        "영역과 관련된 매개변수는 figure내에서 한다.\n",
        "\n",
        "\n",
        "\n",
        "plot은 시각화 내용을 표기하며, 시각화에 사용할 plot의 형태와 매개변수 등에 따라 변경됩니다.\n",
        "\n",
        "figure와 같은 방식으로 plt.plot으로 사용한다.\n",
        "\n",
        "\n",
        "\n",
        "show는 시각화한 객체를 출력한다.\n",
        "plt.show로 사용한다.\n",
        "\n",
        "cell mode에서는 figure,show를 많이 생략하고 사용하기도 한다.\n",
        "\n"
      ],
      "metadata": {
        "id": "GUVV4CXsFC23"
      }
    },
    {
      "cell_type": "code",
      "source": [
        "days_left=df.groupby('days_left').mean()\n",
        "days_left.head()"
      ],
      "metadata": {
        "id": "CVTs3rLLFCzf"
      },
      "execution_count": null,
      "outputs": []
    },
    {
      "cell_type": "markdown",
      "source": [
        "#### 1. 선 그래프(line graph)\n",
        "\n",
        "시간이나 순서에 따른 데이터의 연속적인 변화량을 관찰할 때 주로 사용\n",
        "\n",
        "증가와 감소에 대한 상태 변화를 파악하는데 유용\n",
        "\n",
        "예를 들어, 시간에 따른 기온변화, 환율 변동, 전염병 환자 발생 추이 등을 쉽게 확인\n",
        "\n",
        "출발까지 남은 일자(days_left)에 따라 항공권 가격(price)에 대한 변화를 시각화 해보자.\n",
        "\n"
      ],
      "metadata": {
        "id": "T-Uxj6LkFCxP"
      }
    },
    {
      "cell_type": "code",
      "source": [
        "import matplotlib.pyplot as plt\n",
        "\n",
        "# 시각화 영역(figure) 지정\n",
        "plt.figure()\n",
        "\n",
        "# days_left의 price 데이터로 선 그래프 그리기\n",
        "plt.plot(days_left['price'])\n",
        "\n",
        "# x축 이름 정하기\n",
        "plt.xlabel('days_left')\n",
        "# y축 이름 정하기\n",
        "plt.ylabel('price')\n",
        "# 시각화 표기하기\n",
        "plt.show()"
      ],
      "metadata": {
        "id": "5chSs2ntFCva"
      },
      "execution_count": null,
      "outputs": []
    },
    {
      "cell_type": "markdown",
      "source": [
        "출발까지 남은 일자가 많을수록, 가격이 저렴해지고, 출발일에 가까워질수록 비싸다는 사실을 확인할 수 있다."
      ],
      "metadata": {
        "id": "cNHSX-GnaCbt"
      }
    },
    {
      "cell_type": "markdown",
      "source": [
        "#### 막대 그래프(bar plot)\n",
        "\n",
        "**`plt.bar`**\n",
        "\n",
        "범주에 대한 통계 데이터나 양을 막대 모양으로 나타내는 그래프\n",
        "\n",
        "각 항목의 수량을 한눈에 파악하기 쉬움.\n",
        "\n",
        "가로 세로 누적 그룹화된 막대 그래프를 사용할 수 있다.\n",
        "\n",
        "막대 그래프를 사용하여 항공사별 평균 항공권 가격을 비교해보자.\n",
        "\n"
      ],
      "metadata": {
        "id": "EZ5UsOoTFCth"
      }
    },
    {
      "cell_type": "code",
      "source": [
        "# 먼저 항공사별 평균 항공권 가격 데이터를 만들자\n",
        "\n",
        "airline=df.groupby(['airline']).mean()\n",
        "airline"
      ],
      "metadata": {
        "id": "UZvHzt4-FCrr"
      },
      "execution_count": null,
      "outputs": []
    },
    {
      "cell_type": "code",
      "source": [
        "# 인덱스를 리스트로 만들기\n",
        "\n",
        "label=airline.index\n",
        "plt.figure()\n",
        "\n",
        "# 인덱스를 X, 평균 가격을 Y로 하는 막대 그래프 그리기\n",
        "plt.bar(x=label,height=airline['price'])\n",
        "plt.xlabel(\"Airline\")\n",
        "plt.ylabel('price')\n",
        "plt.show()"
      ],
      "metadata": {
        "id": "lieO1C5sFCp9"
      },
      "execution_count": null,
      "outputs": []
    },
    {
      "cell_type": "markdown",
      "source": [
        "Air_India와 Vistara 항공사가 다른 항공사에 비해 가격이 비싸다는 것을 단번에 확인할 수 있다."
      ],
      "metadata": {
        "id": "E-bA8XQUFCn_"
      }
    },
    {
      "cell_type": "markdown",
      "source": [
        "#### 파이 그래프(Pie plot)\n",
        "\n",
        "**빈도값(`value_counts()`) -> 파이 그래프 (`plt.pie()`)**\n",
        "\n",
        "\n",
        "전체에 대한 각 부분의 비율을 부채꼴 모양으로 나타낸 그래프\n",
        "\n",
        "점유율, 투표율, 구성 비율 등을 쉽게 비교 가능\n",
        "\n",
        "출발 시간에 따른 비행기 스케쥴을 확인해 봅니다.\n",
        "\n",
        "plt.figure 내 figsize 파라미터를 이용해서 그래프의 크기를 조절할 수 있다.\n",
        "\n",
        "또한 plt.pie를 사용할 때, labels 값을 지정해 주지 않으면, 아무런 정보가 없는 그래프만 나오므로 참고합니다.\n",
        "\n"
      ],
      "metadata": {
        "id": "c0cnrbXhFClt"
      }
    },
    {
      "cell_type": "code",
      "source": [
        "df['departure_time'].value_counts()\n",
        "# 범주형 데이터인 departure_time 의 범주의 개수 구하기"
      ],
      "metadata": {
        "id": "qPIJMlM0kIDf"
      },
      "execution_count": null,
      "outputs": []
    },
    {
      "cell_type": "code",
      "source": [
        "# 출발 시간에 따른 비행기 스케쥴을 확인\n",
        "# value_counts() 빈도값 계산\n",
        "departure_time=df['departure_time'].value_counts()\n",
        "departure_time\n",
        "\n",
        "plt.figure(figsize=(10,6))\n",
        "\n",
        "# departure_time 빈도표 데이터로 파이 그래프 그리기\n",
        "plt.pie(x=departure_time,labels=departure_time.index,autopct='%.1f%%') # 내부의 부분 비율을 소수점 한자리로 표현)\n",
        "plt.show()"
      ],
      "metadata": {
        "id": "7eyvBWyvb73A"
      },
      "execution_count": null,
      "outputs": []
    },
    {
      "cell_type": "markdown",
      "source": [
        "Morning 시간대에 제일 많이 출발, Late_Night이 제일 스케쥴이 적음"
      ],
      "metadata": {
        "id": "FLNwVxaJb71T"
      }
    },
    {
      "cell_type": "markdown",
      "source": [
        "#### 히스토그램(Histogram)\n",
        "\n",
        " **`plt.hist`**\n",
        "\n",
        "특정 데이터의 빈도수를 막대 모양으로 표시한 그래프입니다.\n",
        "\n",
        "히스토그램이 가장 많이 사용되는 통계 분석 도구\n",
        "\n",
        "가로축에는 계급 (보통, 변수의 구간을 사용 : 인접하되 겹치지 않아야함)\n",
        "\n",
        "세로축에는 도수\n",
        "\n",
        "데이터의 특성과 분포를 파악하는 역할을 하며 빈도, 빈도 밀도, 확률 등의 분포를 그릴 때 사용\n",
        "\n",
        "\n",
        "\n",
        "\n"
      ],
      "metadata": {
        "id": "9eUzAKmfb7zv"
      }
    },
    {
      "cell_type": "markdown",
      "source": [
        "목적지까지 소요 시간의 분포를 확인해보자\n",
        "\n",
        "그전에, plt.hist() 메소드의 bins 파라미터를 알아야한다.\n",
        "\n",
        "bins는 계급을 몇 개의 구간을 나눌지를 지정하며 기본값은 10\n",
        "\n",
        "비행시간(duration) 데이터의 bins를 10과 20으로 설정하고 시각화해서 비교해보자.\n",
        "\n"
      ],
      "metadata": {
        "id": "YHrEsxnDb7xe"
      }
    },
    {
      "cell_type": "code",
      "source": [
        "plt.figure()\n",
        "\n",
        "# duration을 10개 구간으로 나눠서 히스토그램 그리기\n",
        "plt.hist(df['duration'],bins=10)\n",
        "\n",
        "#duration을 20개 구간으로 나눠서 히스토그램 그리기\n",
        "plt.hist(df['duration'],bins=20)\n",
        "plt.xlabel('Duration')\n",
        "plt.ylabel('Flights')\n",
        "\n",
        "plt.legend(('Bins10',\"Bins20\"))\n",
        "plt.show()"
      ],
      "metadata": {
        "id": "Ru-qfzbLb7v5"
      },
      "execution_count": null,
      "outputs": []
    },
    {
      "cell_type": "markdown",
      "source": [
        "#### 상자 그래프(box plot)\n",
        "\n",
        "https://www.youtube.com/watch?v=Wuk17zg-jt8\n",
        "\n",
        "상자그래프에 대한 이해를 위한 강의\n"
      ],
      "metadata": {
        "id": "DBg8Lnzvb7tg"
      }
    },
    {
      "cell_type": "markdown",
      "source": [
        "##### matplotlib의 상자그래프"
      ],
      "metadata": {
        "id": "cnZluAGald89"
      }
    },
    {
      "cell_type": "code",
      "source": [
        "plt.figure()\n",
        "\n",
        "# Price 칼럼에 대한 상자그래프 그리기\n",
        "plt.boxplot(list(df['price']))\n",
        "plt.ylabel(\"price\")\n",
        "plt.show()"
      ],
      "metadata": {
        "id": "PyeRNGKSlMgv"
      },
      "execution_count": null,
      "outputs": []
    },
    {
      "cell_type": "markdown",
      "source": [
        "##### pandas의 상자그래프\n",
        "\n",
        "by=x축에 해당하는 칼럼명\n",
        "\n",
        "column=분포를 확인하고 싶은 칼럼명\n",
        "\n"
      ],
      "metadata": {
        "id": "Sz0cjk2OllXE"
      }
    },
    {
      "cell_type": "code",
      "source": [
        "df.boxplot(by='departure_time',column='price')"
      ],
      "metadata": {
        "id": "5E7kkHdTlpFM"
      },
      "execution_count": null,
      "outputs": []
    },
    {
      "cell_type": "markdown",
      "source": [
        "### 다변량 시각화 탐색하기\n"
      ],
      "metadata": {
        "id": "Btmf1xBUnEcW"
      }
    },
    {
      "cell_type": "markdown",
      "source": [
        "#### 산점도(scatter plot)\n",
        "plt.scatter()\n",
        "\n",
        "\n",
        "2개의 연속형 변수의 관계를 보기 위해 X축과 Y축에 표시하는 점들을 찍어서 만드는 그래프입니다.\n",
        "\n",
        "예를 들어, 키와 몸무게같은 두 변수의 상관관계를 대략적으로 파악할 수 있다.\n"
      ],
      "metadata": {
        "id": "aSaAQM_lm7cb"
      }
    },
    {
      "cell_type": "code",
      "source": [
        "# 비행시간(duration)과 항공 가격(price)의 관계를 알아보자.\n",
        "plt.figure(figsize=(16,8))\n",
        "\n",
        "plt.scatter(y=df[\"price\"],x=df[\"duration\"])\n",
        "plt.xlabel(\"duration\")\n",
        "plt.ylabel(\"price\")\n",
        "plt.show()"
      ],
      "metadata": {
        "id": "1Ob-LYsHnCuQ"
      },
      "execution_count": null,
      "outputs": []
    },
    {
      "cell_type": "markdown",
      "source": [
        "이해하기 좀 난해하다.\n",
        "\n",
        "좌석 등급 칼럼은 Business와 Economy 값으로 구성되며 좌석 등급 전체에 대한 산점도를 그려 흐름을 확인하기가 어렵다..\n",
        "\n",
        "Economy만을 한정해서 산점도를 파악해보자\n",
        "(df_economy)"
      ],
      "metadata": {
        "id": "KqcEdVVEn7DQ"
      }
    },
    {
      "cell_type": "code",
      "source": [
        "plt.figure(figsize=(16,8))\n",
        "\n",
        "plt.scatter(x=df_economy[\"duration\"],y=df_economy[\"price\"])\n",
        "plt.xlabel(\"duration\")\n",
        "plt.ylabel(\"price\")\n",
        "plt.show()"
      ],
      "metadata": {
        "id": "RkAME2nJn6uJ"
      },
      "execution_count": null,
      "outputs": []
    },
    {
      "cell_type": "markdown",
      "source": [
        "약한 양의 상관관계를 확인할 수 있다..\n"
      ],
      "metadata": {
        "id": "tD2KrsdppvPA"
      }
    },
    {
      "cell_type": "markdown",
      "source": [
        "#### 히트맵(heatmap)\n",
        "\n",
        "plt.pcolor() 하지만 seaborn의 히트맵을 사용하는걸 권장\n",
        "\n",
        "두 값 또는 각 칼럼 간의 상관관계를 나타낼 때 사용"
      ],
      "metadata": {
        "id": "0TUCCBAXp04I"
      }
    },
    {
      "cell_type": "code",
      "source": [
        "import numpy as np\n",
        "\n",
        "#상관계수 데이터\n",
        "heat=df_economy.corr()\n",
        "\n",
        "#상관계수로 히트맵만들기\n",
        "plt.pcolor(heat)\n",
        "\n",
        "#x축 항목 정보 표기하기\n",
        "plt.xticks(ticks=np.arange(0.5,len(heat.columns),1),labels=heat.columns)\n",
        "\n",
        "#y축 항목 정보 표기하기\n",
        "plt.yticks(np.arange(0.5,len(heat.index),1),heat.index)\n",
        "\n",
        "# 히트맵 확인을 위한 칼러바 표시\n",
        "plt.colorbar()\n",
        "plt.show()"
      ],
      "metadata": {
        "id": "XPtaXDkCqOch"
      },
      "execution_count": null,
      "outputs": []
    },
    {
      "cell_type": "markdown",
      "source": [
        "### seaborn 라이브러리 활용하기\n",
        "\n",
        "\n"
      ],
      "metadata": {
        "id": "0FV1m0bOvI1M"
      }
    },
    {
      "cell_type": "markdown",
      "source": [
        "#### 범주형 산점도(categorical plot)\n",
        "\n",
        "sns.caplot()\n",
        "\n",
        "범주형 데이터와 수치형 데이터의 관계를 시각화할 수 있는 그래프\n",
        "\n",
        "파라미터\n",
        "\n",
        "데이터 하위 집합에 대해 정의 하나의 그래프내에 표현하는지 여러개의 그래프로 나눠서 표현하는지 차이\n",
        "- row\n",
        "- col\n",
        "- hue"
      ],
      "metadata": {
        "id": "E9xPbR62vMsr"
      }
    },
    {
      "cell_type": "code",
      "source": [
        "# seaborn 불러오기\n",
        "\n",
        "import seaborn as sns\n",
        "\n",
        "# airline별 price를 class로 구분하여 시각화하기\n",
        "sns.catplot(y='airline',x='price',col='class',data=df,color='#aabbcc')"
      ],
      "metadata": {
        "id": "_FHgIZnlwP59"
      },
      "execution_count": null,
      "outputs": []
    },
    {
      "cell_type": "markdown",
      "source": [
        "#### 선형 회귀 모델 그래프 (linear model plot)\n",
        "\n",
        "sns.lmplot()\n",
        "\n",
        "선형 회귀 모델과 연관 있는 함수로 일반적인 산점도와 함께 직선의 회귀선을 그려주기 때문에 특성간의 선형적인 관계를 확인하기 쉬운 그래프\n",
        "\n",
        "이상치 데이터도 짐작할 수 있다.\n",
        "\n",
        "파라미터\n",
        "\n",
        "- line_kws : 회귀선의 색,형태,넓이 등 선에 대한 속성\n",
        "- scatter_kws : 산점도에 대한 속성을 지정\n",
        "\n"
      ],
      "metadata": {
        "id": "T6pycCLCxboH"
      }
    },
    {
      "cell_type": "code",
      "source": [
        "# duration과 price의 회귀선을 빨간색으로 표시해서 시각화\n",
        "sns.lmplot(data=df_economy,x='duration',y='price',line_kws={'color':'red'},scatter_kws={'color':'green'})"
      ],
      "metadata": {
        "id": "Zcc0pAWqyz2h"
      },
      "execution_count": null,
      "outputs": []
    },
    {
      "cell_type": "markdown",
      "source": [
        "#### 빈도 그래프(count plot)\n",
        "\n",
        "sns.countplot()\n",
        "\n",
        "seaborn의 시각화 함수는 대부분 hue 파라미터를 지원한다.\n",
        "\n",
        "hue 파라미터를 사용하면 범례를 손쉽게 하나 추가할 수 있다.\n",
        "\n",
        "범주형 데이터에 대하여 항목별 개수를 세어 막대 그래프를 그려준다.\n",
        "\n",
        "각 카테고리 값별로 데이터가 얼마나 있는지 표시할 수 있으며, 해당 특성을 구성하고 있는 값(value)를 구분해서 보여줌\n"
      ],
      "metadata": {
        "id": "CbAgbGHz4jcG"
      }
    },
    {
      "cell_type": "code",
      "source": [
        "# 항공사별 비행 편수 class 별로 시각화하기\n",
        "sns.countplot(data=df,x='airline',hue='class')"
      ],
      "metadata": {
        "id": "29Z2SUJo4jaC"
      },
      "execution_count": null,
      "outputs": []
    },
    {
      "cell_type": "markdown",
      "source": [
        "#### 조인트 그래프(joint plot)\n",
        "\n",
        "sns.jointplot()\n",
        "\n",
        "파라미터\n",
        "- kind: 중앙에 위치한 그래프의 종류를 scatter 뿐만 아니라 hex,reg,kde등으로 변경할 수 있다.\n",
        "  - hex는 모자이크처럼 영역을 육각형 모양의 작은 조각으로 나눠 색의 음영으로 분포 밀도를 표현\n",
        "  - reg는 산점도와 함께 회귀선을 그려준다\n",
        "  - kde는 등고선 모양으로 보여준다.\n",
        "\n",
        "중앙의 산점도와 그래프 가장자리에 히스토그램을 동시에 그려주는 그래프\n",
        "\n",
        "데이터 분포와 상관관계를 한번에 볼 수 있지만, 수치형 데이터만 표현할 수 있다.\n",
        "\n",
        "조인트 그래프를 사용하면 산점도로는 알 수 없었던 데이터 빈도 밀도를 통해 데이터의 분포를 확인 하기가 쉽다.\n",
        "\n"
      ],
      "metadata": {
        "id": "-6XHxoRA4jX_"
      }
    },
    {
      "cell_type": "code",
      "source": [
        "# 비행시간과 항공권 가격의 관계\n",
        "sns.jointplot(x='duration',y='price',kind='kde',data=df_economy)"
      ],
      "metadata": {
        "id": "-sotboI14jWI"
      },
      "execution_count": null,
      "outputs": []
    },
    {
      "cell_type": "code",
      "source": [
        "sns.jointplot(x='duration',y='price',data=df_economy)"
      ],
      "metadata": {
        "id": "OMmON0T94jUq"
      },
      "execution_count": null,
      "outputs": []
    },
    {
      "cell_type": "markdown",
      "source": [
        "비행시간은 대부분 0~20 사이에 분포하고\n",
        "\n",
        "항공권 가격은 대부분 10000이하에 분포하고 있다는 사실을 알 수 있다."
      ],
      "metadata": {
        "id": "RFpIuNTc4jRk"
      }
    },
    {
      "cell_type": "markdown",
      "source": [
        "#### 히트맵(heatmap)\n",
        "\n",
        "sns.heatmap()\n",
        "이것만 사용해도 x축 y축의 값과 칼러바를 표기하기 위해서 사용했던 추가 함수 없이 이해하기 쉬운 히트맵을 그려준다.\n",
        "\n",
        "matplotlib에서도 다루었지만, 히트맵에서 중요한 것은 색상이다."
      ],
      "metadata": {
        "id": "n9puXHjmE_pN"
      }
    },
    {
      "cell_type": "code",
      "source": [
        "sns.heatmap(df_economy.corr())"
      ],
      "metadata": {
        "id": "0Qpr2kvuE_nX"
      },
      "execution_count": null,
      "outputs": []
    },
    {
      "cell_type": "markdown",
      "source": [
        "# 대부분의 seaborn plot에서 사용할 수 있으며 손쉽게 범례를 하나 추가할 수 있는 파라미터는?\n",
        "\n"
      ],
      "metadata": {
        "id": "1xYxm4PFHHfL"
      }
    },
    {
      "cell_type": "markdown",
      "source": [
        "hue"
      ],
      "metadata": {
        "id": "rKkJXT_ZHZxy"
      }
    },
    {
      "cell_type": "markdown",
      "source": [
        "# class `Economy`에 한정하여 항공권 가격 예측 데이터의 상관계수를 통해 히트맵을 그리시오.\n"
      ],
      "metadata": {
        "id": "JwgJxin6HHhF"
      }
    },
    {
      "cell_type": "code",
      "source": [
        "# matplotlib\n",
        "df_eco=df[df['class']=='Economy']\n",
        "heat=df_eco.corr()\n",
        "plt.pcolor(heat)\n",
        "plt.xticks(ticks=np.arange(0.5,len(heat.columns),1),labels=heat.columns)\n",
        "plt.yticks(ticks=np.arange(0.5,len(heat.index),1),labels=heat.index)\n",
        "\n",
        "plt.colorbar()\n",
        "plt.show()"
      ],
      "metadata": {
        "id": "_40gLUM6E_jk"
      },
      "execution_count": null,
      "outputs": []
    },
    {
      "cell_type": "code",
      "source": [
        "# seaborn\n",
        "\n",
        "import seaborn as sns\n",
        "heat=df_eco.corr()\n",
        "sns.heatmap(heat)"
      ],
      "metadata": {
        "id": "OF782YENE_hp"
      },
      "execution_count": null,
      "outputs": []
    },
    {
      "cell_type": "code",
      "source": [],
      "metadata": {
        "id": "hz5oRvqhE_fy"
      },
      "execution_count": null,
      "outputs": []
    },
    {
      "cell_type": "code",
      "source": [],
      "metadata": {
        "id": "3mkAoiab4jPh"
      },
      "execution_count": null,
      "outputs": []
    },
    {
      "cell_type": "code",
      "source": [],
      "metadata": {
        "id": "hn6aIKy04i-6"
      },
      "execution_count": null,
      "outputs": []
    },
    {
      "cell_type": "code",
      "source": [],
      "metadata": {
        "id": "bpdthVq14i7g"
      },
      "execution_count": null,
      "outputs": []
    }
  ]
}