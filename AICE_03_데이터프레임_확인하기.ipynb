{
  "nbformat": 4,
  "nbformat_minor": 0,
  "metadata": {
    "colab": {
      "private_outputs": true,
      "provenance": [],
      "toc_visible": true,
      "authorship_tag": "ABX9TyMNZjDI3nMRN7AR/k1OClRE",
      "include_colab_link": true
    },
    "kernelspec": {
      "name": "python3",
      "display_name": "Python 3"
    },
    "language_info": {
      "name": "python"
    }
  },
  "cells": [
    {
      "cell_type": "markdown",
      "metadata": {
        "id": "view-in-github",
        "colab_type": "text"
      },
      "source": [
        "<a href=\"https://colab.research.google.com/github/youse0ng/AICE_/blob/main/AICE_03_%EB%8D%B0%EC%9D%B4%ED%84%B0%ED%94%84%EB%A0%88%EC%9E%84_%ED%99%95%EC%9D%B8%ED%95%98%EA%B8%B0.ipynb\" target=\"_parent\"><img src=\"https://colab.research.google.com/assets/colab-badge.svg\" alt=\"Open In Colab\"/></a>"
      ]
    },
    {
      "cell_type": "code",
      "execution_count": null,
      "metadata": {
        "id": "nBlFvFRKO9qI"
      },
      "outputs": [],
      "source": [
        "import numpy as np\n",
        "import pandas as pd\n",
        "from google.colab import files\n",
        "\n",
        "myfile = files.upload()\n",
        "flight=pd.read_csv(\"/content/Clean_Dataset.csv\")\n",
        "flight"
      ]
    },
    {
      "cell_type": "markdown",
      "source": [
        "# 01. 데이터 살펴보기"
      ],
      "metadata": {
        "id": "pPkrONnWSTOB"
      }
    },
    {
      "cell_type": "code",
      "source": [
        "flight.head() # 데이터 프레임내의 처음 n줄의 데이터 출력한다."
      ],
      "metadata": {
        "id": "DU_8DjxBSZ81"
      },
      "execution_count": null,
      "outputs": []
    },
    {
      "cell_type": "code",
      "source": [
        "flight.tail() # 데이터 프레임내의 마지막 n줄의 데이터 출력한다."
      ],
      "metadata": {
        "id": "YQCM4Q35Sc8B"
      },
      "execution_count": null,
      "outputs": []
    },
    {
      "cell_type": "code",
      "source": [
        "flight.tail(n=3) # 데이터 프레임내의 마지막 3줄의 데이터 출력"
      ],
      "metadata": {
        "id": "IBRqWf-tSr_M"
      },
      "execution_count": null,
      "outputs": []
    },
    {
      "cell_type": "markdown",
      "source": [
        "# 02. 데이터프레임의 기본 정보 확인하기"
      ],
      "metadata": {
        "id": "cI8gzxCzyRjc"
      }
    },
    {
      "cell_type": "code",
      "source": [
        "flight.shape # 행과 열의 갯수를 튜플형태로 변환\n",
        "flight.columns # 데이터프레임을 구성하는 칼럼명을 확인할 때"
      ],
      "metadata": {
        "id": "EX69dyrSyVLd"
      },
      "execution_count": null,
      "outputs": []
    },
    {
      "cell_type": "code",
      "source": [
        "flight.info() # 데이터 유형, 각 칼럼의 데이터 수 등을 한 번에 볼 수 있어 데이터의 구성이나 결측치 유무를 확인"
      ],
      "metadata": {
        "id": "4x68LKjtgRXj"
      },
      "execution_count": null,
      "outputs": []
    },
    {
      "cell_type": "code",
      "source": [
        "flight.describe() # 데이터 칼럼별 요약 통계량을 나타냄 1. 숫자형 데이터 통계치(count:데이터 개수, mean:평균, std:표준편차, min:최소값, max:최댓값)\n",
        "# 범주형 데이터는 데이터 갯수, 최빈값, 최빈값 개수 반환(parameter중 include=\"all\"을 추가해야 확인 가능)\n",
        "flight.describe(include=\"all\")"
      ],
      "metadata": {
        "id": "DY0oyv7GhUCT"
      },
      "execution_count": null,
      "outputs": []
    },
    {
      "cell_type": "code",
      "source": [
        "flight.dtypes # 데이터 프레임이 가지는 데이터 형태의 종류를 나타낸다.\n"
      ],
      "metadata": {
        "id": "RxsN5db9iOX7"
      },
      "execution_count": null,
      "outputs": []
    },
    {
      "cell_type": "code",
      "source": [
        "flight['source_city']"
      ],
      "metadata": {
        "id": "qB69502uijSO"
      },
      "execution_count": null,
      "outputs": []
    },
    {
      "cell_type": "code",
      "source": [
        "flight['source_city'].value_counts() # 지정된 칼럼의 값에 대한 발생횟수를 나타냄"
      ],
      "metadata": {
        "id": "47t6_2j1iX10"
      },
      "execution_count": null,
      "outputs": []
    },
    {
      "cell_type": "code",
      "source": [],
      "metadata": {
        "id": "KL1W7dzwkVia"
      },
      "execution_count": null,
      "outputs": []
    }
  ]
}